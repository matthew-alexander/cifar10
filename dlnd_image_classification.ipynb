{
 "cells": [
  {
   "cell_type": "markdown",
   "metadata": {
    "collapsed": true
   },
   "source": [
    "# Image Classification\n",
    "In this project, you'll classify images from the [CIFAR-10 dataset](https://www.cs.toronto.edu/~kriz/cifar.html).  The dataset consists of airplanes, dogs, cats, and other objects. You'll preprocess the images, then train a convolutional neural network on all the samples. The images need to be normalized and the labels need to be one-hot encoded.  You'll get to apply what you learned and build a convolutional, max pooling, dropout, and fully connected layers.  At the end, you'll get to see your neural network's predictions on the sample images.\n",
    "## Get the Data\n",
    "Run the following cell to download the [CIFAR-10 dataset for python](https://www.cs.toronto.edu/~kriz/cifar-10-python.tar.gz)."
   ]
  },
  {
   "cell_type": "code",
   "execution_count": null,
   "metadata": {
    "collapsed": false
   },
   "outputs": [],
   "source": [
    "\"\"\"\n",
    "DON'T MODIFY ANYTHING IN THIS CELL THAT IS BELOW THIS LINE\n",
    "\"\"\"\n",
    "from urllib.request import urlretrieve\n",
    "from os.path import isfile, isdir\n",
    "from tqdm import tqdm\n",
    "import problem_unittests as tests\n",
    "import tarfile\n",
    "\n",
    "cifar10_dataset_folder_path = 'cifar-10-batches-py'\n",
    "\n",
    "class DLProgress(tqdm):\n",
    "    last_block = 0\n",
    "\n",
    "    def hook(self, block_num=1, block_size=1, total_size=None):\n",
    "        self.total = total_size\n",
    "        self.update((block_num - self.last_block) * block_size)\n",
    "        self.last_block = block_num\n",
    "\n",
    "if not isfile('cifar-10-python.tar.gz'):\n",
    "    with DLProgress(unit='B', unit_scale=True, miniters=1, desc='CIFAR-10 Dataset') as pbar:\n",
    "        urlretrieve(\n",
    "            'https://www.cs.toronto.edu/~kriz/cifar-10-python.tar.gz',\n",
    "            'cifar-10-python.tar.gz',\n",
    "            pbar.hook)\n",
    "\n",
    "if not isdir(cifar10_dataset_folder_path):\n",
    "    with tarfile.open('cifar-10-python.tar.gz') as tar:\n",
    "        tar.extractall()\n",
    "        tar.close()\n",
    "\n",
    "\n",
    "tests.test_folder_path(cifar10_dataset_folder_path)"
   ]
  },
  {
   "cell_type": "markdown",
   "metadata": {},
   "source": [
    "## Explore the Data\n",
    "The dataset is broken into batches to prevent your machine from running out of memory.  The CIFAR-10 dataset consists of 5 batches, named `data_batch_1`, `data_batch_2`, etc.. Each batch contains the labels and images that are one of the following:\n",
    "* airplane\n",
    "* automobile\n",
    "* bird\n",
    "* cat\n",
    "* deer\n",
    "* dog\n",
    "* frog\n",
    "* horse\n",
    "* ship\n",
    "* truck\n",
    "\n",
    "Understanding a dataset is part of making predictions on the data.  Play around with the code cell below by changing the `batch_id` and `sample_id`. The `batch_id` is the id for a batch (1-5). The `sample_id` is the id for a image and label pair in the batch.\n",
    "\n",
    "Ask yourself \"What are all possible labels?\", \"What is the range of values for the image data?\", \"Are the labels in order or random?\".  Answers to questions like these will help you preprocess the data and end up with better predictions."
   ]
  },
  {
   "cell_type": "code",
   "execution_count": null,
   "metadata": {
    "collapsed": false
   },
   "outputs": [],
   "source": [
    "%matplotlib inline\n",
    "%config InlineBackend.figure_format = 'retina'\n",
    "\n",
    "import helper\n",
    "import numpy as np\n",
    "\n",
    "# Explore the dataset\n",
    "batch_id = 1\n",
    "sample_id = 5\n",
    "helper.display_stats(cifar10_dataset_folder_path, batch_id, sample_id)"
   ]
  },
  {
   "cell_type": "markdown",
   "metadata": {},
   "source": [
    "## Implement Preprocess Functions\n",
    "### Normalize\n",
    "In the cell below, implement the `normalize` function to take in image data, `x`, and return it as a normalized Numpy array. The values should be in the range of 0 to 1, inclusive.  The return object should be the same shape as `x`."
   ]
  },
  {
   "cell_type": "code",
   "execution_count": null,
   "metadata": {
    "collapsed": false
   },
   "outputs": [],
   "source": [
    "def normalize(x):\n",
    "    \"\"\"\n",
    "    Normalize a list of sample image data in the range of 0 to 1\n",
    "    : x: List of image data.  The image shape is (32, 32, 3)\n",
    "    : return: Numpy array of normalize data\n",
    "    \"\"\"\n",
    "    # TODO: Implement Function\n",
    "    image_normalized = (x - np.min(x))/ ((np.max(x) - np.min(x)))\n",
    "    \n",
    "    return image_normalized\n",
    "\n",
    "\n",
    "\"\"\"\n",
    "DON'T MODIFY ANYTHING IN THIS CELL THAT IS BELOW THIS LINE\n",
    "\"\"\"\n",
    "tests.test_normalize(normalize)"
   ]
  },
  {
   "cell_type": "markdown",
   "metadata": {},
   "source": [
    "### One-hot encode\n",
    "Just like the previous code cell, you'll be implementing a function for preprocessing.  This time, you'll implement the `one_hot_encode` function. The input, `x`, are a list of labels.  Implement the function to return the list of labels as One-Hot encoded Numpy array.  The possible values for labels are 0 to 9. The one-hot encoding function should return the same encoding for each value between each call to `one_hot_encode`.  Make sure to save the map of encodings outside the function.\n",
    "\n",
    "Hint: Don't reinvent the wheel."
   ]
  },
  {
   "cell_type": "code",
   "execution_count": null,
   "metadata": {
    "collapsed": false
   },
   "outputs": [],
   "source": [
    "def one_hot_encode(x):\n",
    "    \"\"\"\n",
    "    One hot encode a list of sample labels. Return a one-hot encoded vector for each label.\n",
    "    : x: List of sample Labels\n",
    "    : return: Numpy array of one-hot encoded labels\n",
    "    \"\"\"\n",
    "    # TODO: Implement Function\n",
    "    y_train_encoded = np.eye(10)[x]\n",
    "   \n",
    "    return y_train_encoded\n",
    "\n",
    "\n",
    "\"\"\"\n",
    "DON'T MODIFY ANYTHING IN THIS CELL THAT IS BELOW THIS LINE\n",
    "\"\"\"\n",
    "tests.test_one_hot_encode(one_hot_encode)"
   ]
  },
  {
   "cell_type": "markdown",
   "metadata": {},
   "source": [
    "### Randomize Data\n",
    "As you saw from exploring the data above, the order of the samples are randomized.  It doesn't hurt to randomize it again, but you don't need to for this dataset."
   ]
  },
  {
   "cell_type": "markdown",
   "metadata": {},
   "source": [
    "## Preprocess all the data and save it\n",
    "Running the code cell below will preprocess all the CIFAR-10 data and save it to file. The code below also uses 10% of the training data for validation."
   ]
  },
  {
   "cell_type": "code",
   "execution_count": null,
   "metadata": {
    "collapsed": false
   },
   "outputs": [],
   "source": [
    "\"\"\"\n",
    "DON'T MODIFY ANYTHING IN THIS CELL\n",
    "\"\"\"\n",
    "# Preprocess Training, Validation, and Testing Data\n",
    "helper.preprocess_and_save_data(cifar10_dataset_folder_path, normalize, one_hot_encode)"
   ]
  },
  {
   "cell_type": "markdown",
   "metadata": {},
   "source": [
    "# Check Point\n",
    "This is your first checkpoint.  If you ever decide to come back to this notebook or have to restart the notebook, you can start from here.  The preprocessed data has been saved to disk."
   ]
  },
  {
   "cell_type": "code",
   "execution_count": 1,
   "metadata": {
    "collapsed": true
   },
   "outputs": [],
   "source": [
    "\"\"\"\n",
    "DON'T MODIFY ANYTHING IN THIS CELL\n",
    "\"\"\"\n",
    "import pickle\n",
    "import problem_unittests as tests\n",
    "import helper\n",
    "\n",
    "# Load the Preprocessed Validation data\n",
    "valid_features, valid_labels = pickle.load(open('preprocess_validation.p', mode='rb'))"
   ]
  },
  {
   "cell_type": "markdown",
   "metadata": {},
   "source": [
    "## Build the network\n",
    "For the neural network, you'll build each layer into a function.  Most of the code you've seen has been outside of functions. To test your code more thoroughly, we require that you put each layer in a function.  This allows us to give you better feedback and test for simple mistakes using our unittests before you submit your project.\n",
    "\n",
    ">**Note:** If you're finding it hard to dedicate enough time for this course each week, we've provided a small shortcut to this part of the project. In the next couple of problems, you'll have the option to use classes from the [TensorFlow Layers](https://www.tensorflow.org/api_docs/python/tf/layers) or [TensorFlow Layers (contrib)](https://www.tensorflow.org/api_guides/python/contrib.layers) packages to build each layer, except the layers you build in the \"Convolutional and Max Pooling Layer\" section.  TF Layers is similar to Keras's and TFLearn's abstraction to layers, so it's easy to pickup.\n",
    "\n",
    ">However, if you would like to get the most out of this course, try to solve all the problems _without_ using anything from the TF Layers packages. You **can** still use classes from other packages that happen to have the same name as ones you find in TF Layers! For example, instead of using the TF Layers version of the `conv2d` class, [tf.layers.conv2d](https://www.tensorflow.org/api_docs/python/tf/layers/conv2d), you would want to use the TF Neural Network version of `conv2d`, [tf.nn.conv2d](https://www.tensorflow.org/api_docs/python/tf/nn/conv2d). \n",
    "\n",
    "Let's begin!\n",
    "\n",
    "### Input\n",
    "The neural network needs to read the image data, one-hot encoded labels, and dropout keep probability. Implement the following functions\n",
    "* Implement `neural_net_image_input`\n",
    " * Return a [TF Placeholder](https://www.tensorflow.org/api_docs/python/tf/placeholder)\n",
    " * Set the shape using `image_shape` with batch size set to `None`.\n",
    " * Name the TensorFlow placeholder \"x\" using the TensorFlow `name` parameter in the [TF Placeholder](https://www.tensorflow.org/api_docs/python/tf/placeholder).\n",
    "* Implement `neural_net_label_input`\n",
    " * Return a [TF Placeholder](https://www.tensorflow.org/api_docs/python/tf/placeholder)\n",
    " * Set the shape using `n_classes` with batch size set to `None`.\n",
    " * Name the TensorFlow placeholder \"y\" using the TensorFlow `name` parameter in the [TF Placeholder](https://www.tensorflow.org/api_docs/python/tf/placeholder).\n",
    "* Implement `neural_net_keep_prob_input`\n",
    " * Return a [TF Placeholder](https://www.tensorflow.org/api_docs/python/tf/placeholder) for dropout keep probability.\n",
    " * Name the TensorFlow placeholder \"keep_prob\" using the TensorFlow `name` parameter in the [TF Placeholder](https://www.tensorflow.org/api_docs/python/tf/placeholder).\n",
    "\n",
    "These names will be used at the end of the project to load your saved model.\n",
    "\n",
    "Note: `None` for shapes in TensorFlow allow for a dynamic size."
   ]
  },
  {
   "cell_type": "code",
   "execution_count": 2,
   "metadata": {
    "collapsed": false
   },
   "outputs": [
    {
     "name": "stdout",
     "output_type": "stream",
     "text": [
      "Image Input Tests Passed.\n",
      "Label Input Tests Passed.\n",
      "Keep Prob Tests Passed.\n"
     ]
    }
   ],
   "source": [
    "import tensorflow as tf\n",
    "\n",
    "def neural_net_image_input(image_shape):\n",
    "    \"\"\"\n",
    "    Return a Tensor for a batch of image input\n",
    "    : image_shape: Shape of the images\n",
    "    : return: Tensor for image input.\n",
    "    \"\"\"\n",
    "    # TODO: Implement Function\n",
    "    x = tf.placeholder(tf.float32, shape = (None, image_shape[0], image_shape[1], image_shape[2]), name = 'x')\n",
    "\n",
    "    return x\n",
    "\n",
    "\n",
    "\n",
    "def neural_net_label_input(n_classes):\n",
    "    \"\"\"\n",
    "    Return a Tensor for a batch of label input\n",
    "    : n_classes: Number of classes\n",
    "    : return: Tensor for label input.\n",
    "    \"\"\"\n",
    "    # TODO: Implement Function\n",
    "    y = tf.placeholder(tf.float32, [None, n_classes], name = 'y')\n",
    "    return y\n",
    "\n",
    "\n",
    "def neural_net_keep_prob_input():\n",
    "    \"\"\"\n",
    "    Return a Tensor for keep probability\n",
    "    : return: Tensor for keep probability.\n",
    "    \"\"\"\n",
    "    # TODO: Implement Function\n",
    "    keep_prob = tf.placeholder(tf.float32, name = 'keep_prob')\n",
    "    \n",
    "    return keep_prob\n",
    "\n",
    "\n",
    "\"\"\"\n",
    "DON'T MODIFY ANYTHING IN THIS CELL THAT IS BELOW THIS LINE\n",
    "\"\"\"\n",
    "tf.reset_default_graph()\n",
    "tests.test_nn_image_inputs(neural_net_image_input)\n",
    "tests.test_nn_label_inputs(neural_net_label_input)\n",
    "tests.test_nn_keep_prob_inputs(neural_net_keep_prob_input)"
   ]
  },
  {
   "cell_type": "markdown",
   "metadata": {},
   "source": [
    "### Convolution and Max Pooling Layer\n",
    "Convolution layers have a lot of success with images. For this code cell, you should implement the function `conv2d_maxpool` to apply convolution then max pooling:\n",
    "* Create the weight and bias using `conv_ksize`, `conv_num_outputs` and the shape of `x_tensor`.\n",
    "* Apply a convolution to `x_tensor` using weight and `conv_strides`.\n",
    " * We recommend you use same padding, but you're welcome to use any padding.\n",
    "* Add bias\n",
    "* Add a nonlinear activation to the convolution.\n",
    "* Apply Max Pooling using `pool_ksize` and `pool_strides`.\n",
    " * We recommend you use same padding, but you're welcome to use any padding.\n",
    "\n",
    "**Note:** You **can't** use [TensorFlow Layers](https://www.tensorflow.org/api_docs/python/tf/layers) or [TensorFlow Layers (contrib)](https://www.tensorflow.org/api_guides/python/contrib.layers) for **this** layer, but you can still use TensorFlow's [Neural Network](https://www.tensorflow.org/api_docs/python/tf/nn) package. You may still use the shortcut option for all the **other** layers."
   ]
  },
  {
   "cell_type": "code",
   "execution_count": 12,
   "metadata": {
    "collapsed": false
   },
   "outputs": [
    {
     "name": "stdout",
     "output_type": "stream",
     "text": [
      "Tests Passed\n"
     ]
    }
   ],
   "source": [
    "def conv2d_maxpool(x_tensor, conv_num_outputs, conv_ksize, conv_strides, pool_ksize, pool_strides):\n",
    "    \"\"\"\n",
    "    Apply convolution then max pooling to x_tensor\n",
    "    :param x_tensor: TensorFlow Tensor\n",
    "    :param conv_num_outputs: Number of outputs for the convolutional layer\n",
    "    :param conv_ksize: kernal size 2-D Tuple for the convolutional layer\n",
    "    :param conv_strides: Stride 2-D Tuple for convolution\n",
    "    :param pool_ksize: kernal size 2-D Tuple for pool\n",
    "    :param pool_strides: Stride 2-D Tuple for pool\n",
    "    : return: A tensor that represents convolution and max pooling of x_tensor\n",
    "    \"\"\"\n",
    "    # TODO: Implement Function    \n",
    "\n",
    "    shape = [conv_ksize[0],conv_ksize[1], x_tensor.get_shape().as_list()[-1], conv_num_outputs]\n",
    "    \n",
    "    weights1 = tf.Variable(tf.truncated_normal(shape, stddev=0.05))\n",
    "#     weight = tf.Variable(tf.truncated_normal([filter_size_height, filter_size_width, color_channels, k_output])\n",
    "    \n",
    "    biases1 = tf.Variable(tf.constant(0.05, shape=[conv_num_outputs]))\n",
    "    \n",
    "    layer_conv1 = tf.nn.conv2d(input = x_tensor, filter=weights1, strides=[1, conv_strides[0], conv_strides[1], 1], padding='VALID') + biases1\n",
    "#     layer_conv1 = tf.contrib.layers.batch_norm(layer_conv1, center = True, scale = True)\n",
    "#     layer_conv1 = tf.nn.relu(layer_conv1)\n",
    "    layer_conv1 = tf.nn.max_pool(value=layer_conv1, ksize=[1, pool_ksize[0], pool_ksize[1], 1], strides=[1, pool_strides[0], pool_strides[1], 1], padding='VALID')\n",
    "    return layer_conv1\n",
    "\n",
    "\n",
    "\"\"\"\n",
    "DON'T MODIFY ANYTHING IN THIS CELL THAT IS BELOW THIS LINE\n",
    "\"\"\"\n",
    "tests.test_con_pool(conv2d_maxpool)"
   ]
  },
  {
   "cell_type": "markdown",
   "metadata": {},
   "source": [
    "### Flatten Layer\n",
    "Implement the `flatten` function to change the dimension of `x_tensor` from a 4-D tensor to a 2-D tensor.  The output should be the shape (*Batch Size*, *Flattened Image Size*). Shortcut option: you can use classes from the [TensorFlow Layers](https://www.tensorflow.org/api_docs/python/tf/layers) or [TensorFlow Layers (contrib)](https://www.tensorflow.org/api_guides/python/contrib.layers) packages for this layer. For more of a challenge, only use other TensorFlow packages."
   ]
  },
  {
   "cell_type": "code",
   "execution_count": 4,
   "metadata": {
    "collapsed": false
   },
   "outputs": [
    {
     "name": "stdout",
     "output_type": "stream",
     "text": [
      "Tests Passed\n"
     ]
    }
   ],
   "source": [
    "def flatten(x_tensor):\n",
    "    \"\"\"\n",
    "    Flatten x_tensor to (Batch Size, Flattened Image Size)\n",
    "    : x_tensor: A tensor of size (Batch Size, ...), where ... are the image dimensions.\n",
    "    : return: A tensor of size (Batch Size, Flattened Image Size).\n",
    "    \"\"\"\n",
    "    # TODO: Implement Function\n",
    "    batch_size = x_tensor.get_shape()[0]\n",
    "    w = x_tensor.get_shape().as_list()[1]\n",
    "    h = x_tensor.get_shape().as_list()[2]\n",
    "    d = x_tensor.get_shape().as_list()[3]\n",
    "    \n",
    "    flat_shape = w * h * d\n",
    "    \n",
    "    return tf.reshape(x_tensor, [-1, flat_shape])\n",
    "\n",
    "\n",
    "\"\"\"\n",
    "DON'T MODIFY ANYTHING IN THIS CELL THAT IS BELOW THIS LINE\n",
    "\"\"\"\n",
    "tests.test_flatten(flatten)"
   ]
  },
  {
   "cell_type": "markdown",
   "metadata": {},
   "source": [
    "### Fully-Connected Layer\n",
    "Implement the `fully_conn` function to apply a fully connected layer to `x_tensor` with the shape (*Batch Size*, *num_outputs*). Shortcut option: you can use classes from the [TensorFlow Layers](https://www.tensorflow.org/api_docs/python/tf/layers) or [TensorFlow Layers (contrib)](https://www.tensorflow.org/api_guides/python/contrib.layers) packages for this layer. For more of a challenge, only use other TensorFlow packages."
   ]
  },
  {
   "cell_type": "code",
   "execution_count": 5,
   "metadata": {
    "collapsed": false
   },
   "outputs": [
    {
     "name": "stdout",
     "output_type": "stream",
     "text": [
      "Tests Passed\n"
     ]
    }
   ],
   "source": [
    "def fully_conn(x_tensor, num_outputs):\n",
    "    \"\"\"\n",
    "    Apply a fully connected layer to x_tensor using weight and bias\n",
    "    : x_tensor: A 2-D tensor where the first dimension is batch size.\n",
    "    : num_outputs: The number of output that the new tensor should be.\n",
    "    : return: A 2-D tensor where the second dimension is num_outputs.\n",
    "    \"\"\"\n",
    "    # TODO: Implement Function\n",
    "    fc1_shape = (x_tensor.get_shape().as_list()[-1], num_outputs)\n",
    "    fc1_size = num_outputs\n",
    "\n",
    "    weights_fc1 = tf.Variable(tf.truncated_normal(shape=(fc1_shape)))\n",
    "    biases_fc1 = tf.Variable(tf.constant(0.05, shape=[fc1_size]))\n",
    "                  \n",
    "    fc1 = tf.matmul(x_tensor, weights_fc1) + biases_fc1\n",
    "    fc1 = tf.nn.relu(fc1)\n",
    "    \n",
    "    return fc1\n",
    "\n",
    "\n",
    "\"\"\"\n",
    "DON'T MODIFY ANYTHING IN THIS CELL THAT IS BELOW THIS LINE\n",
    "\"\"\"\n",
    "tests.test_fully_conn(fully_conn)"
   ]
  },
  {
   "cell_type": "markdown",
   "metadata": {},
   "source": [
    "### Output Layer\n",
    "Implement the `output` function to apply a fully connected layer to `x_tensor` with the shape (*Batch Size*, *num_outputs*). Shortcut option: you can use classes from the [TensorFlow Layers](https://www.tensorflow.org/api_docs/python/tf/layers) or [TensorFlow Layers (contrib)](https://www.tensorflow.org/api_guides/python/contrib.layers) packages for this layer. For more of a challenge, only use other TensorFlow packages.\n",
    "\n",
    "**Note:** Activation, softmax, or cross entropy should **not** be applied to this."
   ]
  },
  {
   "cell_type": "code",
   "execution_count": 6,
   "metadata": {
    "collapsed": false
   },
   "outputs": [
    {
     "name": "stdout",
     "output_type": "stream",
     "text": [
      "Tests Passed\n"
     ]
    }
   ],
   "source": [
    "def output(x_tensor, num_outputs):\n",
    "    \"\"\"\n",
    "    Apply a output layer to x_tensor using weight and bias\n",
    "    : x_tensor: A 2-D tensor where the first dimension is batch size.\n",
    "    : num_outputs: The number of output that the new tensor should be.\n",
    "    : return: A 2-D tensor where the second dimension is num_outputs.\n",
    "    \"\"\"\n",
    "    # TODO: Implement Function\n",
    "    out_shape = (x_tensor.get_shape().as_list()[-1], num_outputs)\n",
    "    out_size = num_outputs\n",
    "\n",
    "    weights_out = tf.Variable(tf.truncated_normal(shape=(out_shape)))\n",
    "    biases_out = tf.Variable(tf.constant(0.05, shape=[out_size]))\n",
    "                  \n",
    "    out = tf.matmul(x_tensor, weights_out) + biases_out\n",
    "   \n",
    "    \n",
    "    return out\n",
    "    return None\n",
    "\n",
    "\n",
    "\"\"\"\n",
    "DON'T MODIFY ANYTHING IN THIS CELL THAT IS BELOW THIS LINE\n",
    "\"\"\"\n",
    "tests.test_output(output)"
   ]
  },
  {
   "cell_type": "markdown",
   "metadata": {},
   "source": [
    "### Create Convolutional Model\n",
    "Implement the function `conv_net` to create a convolutional neural network model. The function takes in a batch of images, `x`, and outputs logits.  Use the layers you created above to create this model:\n",
    "\n",
    "* Apply 1, 2, or 3 Convolution and Max Pool layers\n",
    "* Apply a Flatten Layer\n",
    "* Apply 1, 2, or 3 Fully Connected Layers\n",
    "* Apply an Output Layer\n",
    "* Return the output\n",
    "* Apply [TensorFlow's Dropout](https://www.tensorflow.org/api_docs/python/tf/nn/dropout) to one or more layers in the model using `keep_prob`. "
   ]
  },
  {
   "cell_type": "code",
   "execution_count": 13,
   "metadata": {
    "collapsed": false
   },
   "outputs": [
    {
     "name": "stdout",
     "output_type": "stream",
     "text": [
      "Neural Network Built!\n"
     ]
    }
   ],
   "source": [
    "def conv_net(x, keep_prob):\n",
    "    \"\"\"\n",
    "    Create a convolutional neural network model\n",
    "    : x: Placeholder tensor that holds image data.\n",
    "    : keep_prob: Placeholder tensor that hold dropout keep probability.\n",
    "    : return: Tensor that represents logits\n",
    "    \"\"\"\n",
    "    # TODO: Apply 1, 2, or 3 Convolution and Max Pool layers\n",
    "    #    Play around with different number of outputs, kernel size and stride\n",
    "    # Function Definition from Above:\n",
    "    #    conv2d_maxpool(x_tensor, conv_num_outputs, conv_ksize, conv_strides, pool_ksize, pool_strides)\n",
    "    conv_num_outputs =6\n",
    "    conv_ksize = (5,5)\n",
    "    conv_strides = (2,2)\n",
    "    pool_ksize = (2,2)\n",
    "    pool_strides = (2,2)\n",
    "    \n",
    "    \n",
    "    conv_layer1 = conv2d_maxpool(x, conv_num_outputs, conv_ksize, conv_strides, pool_ksize, pool_strides)\n",
    "  \n",
    "    \n",
    "    conv_num_outputs = 16\n",
    "    conv_ksize = (5,5)\n",
    "    conv_strides = (2,2)\n",
    "    pool_ksize = (2,2)\n",
    "    pool_strides = (2,2)\n",
    "        \n",
    "    conv_layer2 = conv2d_maxpool(conv_layer1, conv_num_outputs, conv_ksize, conv_strides, pool_ksize, pool_strides)\n",
    "    \n",
    "\n",
    "    \n",
    "    # TODO: Apply a Flatten Layer\n",
    "    # Function Definition from Above:\n",
    "    #   flatten(x_tensor)\n",
    "    \n",
    "    flat = flatten(conv_layer2)\n",
    "\n",
    "    # TODO: Apply 1, 2, or 3 Fully Connected Layers\n",
    "    #    Play around with different number of outputs\n",
    "    # Function Definition from Above:\n",
    "    #   fully_conn(x_tensor, num_outputs)\n",
    "    \n",
    "    num_outputs1 = 120\n",
    "    fc1  = fully_conn(flat, num_outputs1)\n",
    "    fc1 = tf.nn.dropout(fc1, keep_prob)\n",
    "    \n",
    "#     num_outputs2 = 120\n",
    "#     fc2  = fully_conn(fc1, num_outputs2)\n",
    "#     fc2 = tf.nn.dropout(fc2, keep_prob)\n",
    "    \n",
    "    # TODO: Apply an Output Layer\n",
    "    #    Set this to the number of classes\n",
    "    # Function Definition from Above:\n",
    "    #   output(x_tensor, num_outputs)\n",
    "    \n",
    "    num_classes = 10\n",
    "    out = output(fc1, num_classes)\n",
    "    \n",
    "    # TODO: return output\n",
    "    return out\n",
    "\n",
    "\n",
    "\"\"\"\n",
    "DON'T MODIFY ANYTHING IN THIS CELL THAT IS BELOW THIS LINE\n",
    "\"\"\"\n",
    "\n",
    "##############################\n",
    "## Build the Neural Network ##\n",
    "##############################\n",
    "\n",
    "# Remove previous weights, bias, inputs, etc..\n",
    "tf.reset_default_graph()\n",
    "\n",
    "# Inputs\n",
    "x = neural_net_image_input((32, 32, 3))\n",
    "y = neural_net_label_input(10)\n",
    "keep_prob = neural_net_keep_prob_input()\n",
    "\n",
    "# Model\n",
    "logits = conv_net(x, keep_prob)\n",
    "\n",
    "# Name logits Tensor, so that is can be loaded from disk after training\n",
    "logits = tf.identity(logits, name='logits')\n",
    "\n",
    "# Loss and Optimizer\n",
    "cost = tf.reduce_mean(tf.nn.softmax_cross_entropy_with_logits(logits=logits, labels=y))\n",
    "optimizer = tf.train.AdamOptimizer().minimize(cost)\n",
    "\n",
    "# Accuracy\n",
    "correct_pred = tf.equal(tf.argmax(logits, 1), tf.argmax(y, 1))\n",
    "accuracy = tf.reduce_mean(tf.cast(correct_pred, tf.float32), name='accuracy')\n",
    "\n",
    "tests.test_conv_net(conv_net)"
   ]
  },
  {
   "cell_type": "markdown",
   "metadata": {},
   "source": [
    "## Train the Neural Network\n",
    "### Single Optimization\n",
    "Implement the function `train_neural_network` to do a single optimization.  The optimization should use `optimizer` to optimize in `session` with a `feed_dict` of the following:\n",
    "* `x` for image input\n",
    "* `y` for labels\n",
    "* `keep_prob` for keep probability for dropout\n",
    "\n",
    "This function will be called for each batch, so `tf.global_variables_initializer()` has already been called.\n",
    "\n",
    "Note: Nothing needs to be returned. This function is only optimizing the neural network."
   ]
  },
  {
   "cell_type": "code",
   "execution_count": 14,
   "metadata": {
    "collapsed": false
   },
   "outputs": [
    {
     "name": "stdout",
     "output_type": "stream",
     "text": [
      "Tests Passed\n"
     ]
    }
   ],
   "source": [
    "def train_neural_network(session, optimizer, keep_probability, feature_batch, label_batch):\n",
    "    \"\"\"\n",
    "    Optimize the session on a batch of images and labels\n",
    "    : session: Current TensorFlow session\n",
    "    : optimizer: TensorFlow optimizer function\n",
    "    : keep_probability: keep probability\n",
    "    : feature_batch: Batch of Numpy image data\n",
    "    : label_batch: Batch of Numpy label data\n",
    "    \"\"\"\n",
    "    # TODO: Implement Function\n",
    "    \n",
    "    feed_dict_batch = {x: feature_batch, y: label_batch, keep_prob: keep_probability}\n",
    "    session.run(optimizer, feed_dict = feed_dict_batch)\n",
    "    pass\n",
    "\n",
    "\n",
    "\"\"\"\n",
    "DON'T MODIFY ANYTHING IN THIS CELL THAT IS BELOW THIS LINE\n",
    "\"\"\"\n",
    "tests.test_train_nn(train_neural_network)"
   ]
  },
  {
   "cell_type": "markdown",
   "metadata": {},
   "source": [
    "### Show Stats\n",
    "Implement the function `print_stats` to print loss and validation accuracy.  Use the global variables `valid_features` and `valid_labels` to calculate validation accuracy.  Use a keep probability of `1.0` to calculate the loss and validation accuracy."
   ]
  },
  {
   "cell_type": "code",
   "execution_count": 15,
   "metadata": {
    "collapsed": false
   },
   "outputs": [],
   "source": [
    "def print_stats(session, feature_batch, label_batch, cost, accuracy):\n",
    "    \"\"\"\n",
    "    Print information about loss and validation accuracy\n",
    "    : session: Current TensorFlow session\n",
    "    : feature_batch: Batch of Numpy image data\n",
    "    : label_batch: Batch of Numpy label data\n",
    "    : cost: TensorFlow cost function\n",
    "    : accuracy: TensorFlow accuracy function\n",
    "    \"\"\"\n",
    "    # TODO: Implement Function\n",
    "    feed_dict_batch = {x: feature_batch, y: label_batch, keep_prob: 1.0}\n",
    "    validation_acc = session.run(accuracy,feed_dict={x: valid_features, y: valid_labels, keep_prob: 1.0})\n",
    "    loss = sess.run(cost,feed_dict=feed_dict_batch)\n",
    "    print(\"validation_accuracy: \", validation_acc,\"Loss: \", loss)\n",
    "    pass"
   ]
  },
  {
   "cell_type": "markdown",
   "metadata": {},
   "source": [
    "### Hyperparameters\n",
    "Tune the following parameters:\n",
    "* Set `epochs` to the number of iterations until the network stops learning or start overfitting\n",
    "* Set `batch_size` to the highest number that your machine has memory for.  Most people set them to common sizes of memory:\n",
    " * 64\n",
    " * 128\n",
    " * 256\n",
    " * ...\n",
    "* Set `keep_probability` to the probability of keeping a node using dropout"
   ]
  },
  {
   "cell_type": "code",
   "execution_count": 22,
   "metadata": {
    "collapsed": true
   },
   "outputs": [],
   "source": [
    "# TODO: Tune Parameters\n",
    "epochs = 100\n",
    "batch_size = 128\n",
    "keep_probability = .75"
   ]
  },
  {
   "cell_type": "markdown",
   "metadata": {},
   "source": [
    "### Train on a Single CIFAR-10 Batch\n",
    "Instead of training the neural network on all the CIFAR-10 batches of data, let's use a single batch. This should save time while you iterate on the model to get a better accuracy.  Once the final validation accuracy is 50% or greater, run the model on all the data in the next section."
   ]
  },
  {
   "cell_type": "code",
   "execution_count": 23,
   "metadata": {
    "collapsed": false
   },
   "outputs": [
    {
     "name": "stdout",
     "output_type": "stream",
     "text": [
      "Checking the Training on a Single Batch...\n",
      "Epoch  1, CIFAR-10 Batch 1:  validation_accuracy:  0.1952 Loss:  2.16501\n",
      "Epoch  2, CIFAR-10 Batch 1:  validation_accuracy:  0.2588 Loss:  2.09236\n",
      "Epoch  3, CIFAR-10 Batch 1:  validation_accuracy:  0.2978 Loss:  1.99041\n",
      "Epoch  4, CIFAR-10 Batch 1:  validation_accuracy:  0.3158 Loss:  1.97794\n",
      "Epoch  5, CIFAR-10 Batch 1:  validation_accuracy:  0.3324 Loss:  1.91939\n",
      "Epoch  6, CIFAR-10 Batch 1:  validation_accuracy:  0.3308 Loss:  1.89154\n",
      "Epoch  7, CIFAR-10 Batch 1:  validation_accuracy:  0.3372 Loss:  1.8194\n",
      "Epoch  8, CIFAR-10 Batch 1:  validation_accuracy:  0.3426 Loss:  1.74342\n",
      "Epoch  9, CIFAR-10 Batch 1:  validation_accuracy:  0.3384 Loss:  1.70318\n",
      "Epoch 10, CIFAR-10 Batch 1:  validation_accuracy:  0.3534 Loss:  1.64627\n",
      "Epoch 11, CIFAR-10 Batch 1:  validation_accuracy:  0.3586 Loss:  1.58344\n",
      "Epoch 12, CIFAR-10 Batch 1:  validation_accuracy:  0.3718 Loss:  1.56251\n",
      "Epoch 13, CIFAR-10 Batch 1:  validation_accuracy:  0.3748 Loss:  1.52283\n",
      "Epoch 14, CIFAR-10 Batch 1:  validation_accuracy:  0.3742 Loss:  1.48942\n",
      "Epoch 15, CIFAR-10 Batch 1:  validation_accuracy:  0.3844 Loss:  1.47479\n",
      "Epoch 16, CIFAR-10 Batch 1:  validation_accuracy:  0.389 Loss:  1.43518\n",
      "Epoch 17, CIFAR-10 Batch 1:  validation_accuracy:  0.3882 Loss:  1.39535\n",
      "Epoch 18, CIFAR-10 Batch 1:  validation_accuracy:  0.3876 Loss:  1.33159\n",
      "Epoch 19, CIFAR-10 Batch 1:  validation_accuracy:  0.4026 Loss:  1.30546\n",
      "Epoch 20, CIFAR-10 Batch 1:  validation_accuracy:  0.3954 Loss:  1.29841\n",
      "Epoch 21, CIFAR-10 Batch 1:  validation_accuracy:  0.4048 Loss:  1.28255\n",
      "Epoch 22, CIFAR-10 Batch 1:  validation_accuracy:  0.4052 Loss:  1.24754\n",
      "Epoch 23, CIFAR-10 Batch 1:  validation_accuracy:  0.413 Loss:  1.20593\n",
      "Epoch 24, CIFAR-10 Batch 1:  validation_accuracy:  0.4128 Loss:  1.1676\n",
      "Epoch 25, CIFAR-10 Batch 1:  validation_accuracy:  0.42 Loss:  1.14757\n",
      "Epoch 26, CIFAR-10 Batch 1:  validation_accuracy:  0.4176 Loss:  1.1668\n",
      "Epoch 27, CIFAR-10 Batch 1:  validation_accuracy:  0.4236 Loss:  1.12548\n",
      "Epoch 28, CIFAR-10 Batch 1:  validation_accuracy:  0.4244 Loss:  1.12916\n",
      "Epoch 29, CIFAR-10 Batch 1:  validation_accuracy:  0.429 Loss:  1.08461\n",
      "Epoch 30, CIFAR-10 Batch 1:  validation_accuracy:  0.4298 Loss:  1.06282\n",
      "Epoch 31, CIFAR-10 Batch 1:  validation_accuracy:  0.4252 Loss:  1.09722\n",
      "Epoch 32, CIFAR-10 Batch 1:  validation_accuracy:  0.4254 Loss:  1.03336\n",
      "Epoch 33, CIFAR-10 Batch 1:  validation_accuracy:  0.4232 Loss:  0.996111\n",
      "Epoch 34, CIFAR-10 Batch 1:  validation_accuracy:  0.4276 Loss:  0.975532\n",
      "Epoch 35, CIFAR-10 Batch 1:  validation_accuracy:  0.4338 Loss:  0.960085\n",
      "Epoch 36, CIFAR-10 Batch 1:  validation_accuracy:  0.4322 Loss:  0.952538\n",
      "Epoch 37, CIFAR-10 Batch 1:  validation_accuracy:  0.4384 Loss:  0.968424\n",
      "Epoch 38, CIFAR-10 Batch 1:  validation_accuracy:  0.4214 Loss:  1.02187\n",
      "Epoch 39, CIFAR-10 Batch 1:  validation_accuracy:  0.4172 Loss:  0.95656\n",
      "Epoch 40, CIFAR-10 Batch 1:  validation_accuracy:  0.4324 Loss:  0.918883\n",
      "Epoch 41, CIFAR-10 Batch 1:  validation_accuracy:  0.4298 Loss:  0.906567\n",
      "Epoch 42, CIFAR-10 Batch 1:  validation_accuracy:  0.4334 Loss:  0.906961\n",
      "Epoch 43, CIFAR-10 Batch 1:  validation_accuracy:  0.4352 Loss:  0.899868\n",
      "Epoch 44, CIFAR-10 Batch 1:  validation_accuracy:  0.4254 Loss:  0.884967\n",
      "Epoch 45, CIFAR-10 Batch 1:  validation_accuracy:  0.4176 Loss:  0.940903\n",
      "Epoch 46, CIFAR-10 Batch 1:  validation_accuracy:  0.4316 Loss:  0.867625\n",
      "Epoch 47, CIFAR-10 Batch 1:  validation_accuracy:  0.4314 Loss:  0.853748\n",
      "Epoch 48, CIFAR-10 Batch 1:  validation_accuracy:  0.4338 Loss:  0.840423\n",
      "Epoch 49, CIFAR-10 Batch 1:  validation_accuracy:  0.4252 Loss:  0.86098\n",
      "Epoch 50, CIFAR-10 Batch 1:  validation_accuracy:  0.4366 Loss:  0.800346\n",
      "Epoch 51, CIFAR-10 Batch 1:  validation_accuracy:  0.4424 Loss:  0.782483\n",
      "Epoch 52, CIFAR-10 Batch 1:  validation_accuracy:  0.4328 Loss:  0.788756\n",
      "Epoch 53, CIFAR-10 Batch 1:  validation_accuracy:  0.4364 Loss:  0.75704\n",
      "Epoch 54, CIFAR-10 Batch 1:  validation_accuracy:  0.4412 Loss:  0.760137\n",
      "Epoch 55, CIFAR-10 Batch 1:  validation_accuracy:  0.448 Loss:  0.734445\n",
      "Epoch 56, CIFAR-10 Batch 1:  validation_accuracy:  0.4422 Loss:  0.749123\n",
      "Epoch 57, CIFAR-10 Batch 1:  validation_accuracy:  0.4336 Loss:  0.763729\n",
      "Epoch 58, CIFAR-10 Batch 1:  validation_accuracy:  0.4392 Loss:  0.747701\n",
      "Epoch 59, CIFAR-10 Batch 1:  validation_accuracy:  0.4346 Loss:  0.74789\n",
      "Epoch 60, CIFAR-10 Batch 1:  validation_accuracy:  0.4464 Loss:  0.703205\n",
      "Epoch 61, CIFAR-10 Batch 1:  validation_accuracy:  0.4422 Loss:  0.67856\n",
      "Epoch 62, CIFAR-10 Batch 1:  validation_accuracy:  0.4462 Loss:  0.705797\n",
      "Epoch 63, CIFAR-10 Batch 1:  validation_accuracy:  0.4386 Loss:  0.71132\n",
      "Epoch 64, CIFAR-10 Batch 1:  validation_accuracy:  0.4356 Loss:  0.735356\n",
      "Epoch 65, CIFAR-10 Batch 1:  validation_accuracy:  0.443 Loss:  0.706743\n",
      "Epoch 66, CIFAR-10 Batch 1:  validation_accuracy:  0.435 Loss:  0.732825\n",
      "Epoch 67, CIFAR-10 Batch 1:  validation_accuracy:  0.421 Loss:  0.749417\n",
      "Epoch 68, CIFAR-10 Batch 1:  validation_accuracy:  0.4276 Loss:  0.721183\n",
      "Epoch 69, CIFAR-10 Batch 1:  validation_accuracy:  0.4288 Loss:  0.729793\n",
      "Epoch 70, CIFAR-10 Batch 1:  validation_accuracy:  0.4276 Loss:  0.715995\n",
      "Epoch 71, CIFAR-10 Batch 1:  validation_accuracy:  0.4394 Loss:  0.71423\n",
      "Epoch 72, CIFAR-10 Batch 1:  validation_accuracy:  0.4368 Loss:  0.739858\n",
      "Epoch 73, CIFAR-10 Batch 1:  validation_accuracy:  0.4478 Loss:  0.669982\n",
      "Epoch 74, CIFAR-10 Batch 1:  validation_accuracy:  0.444 Loss:  0.706531\n",
      "Epoch 75, CIFAR-10 Batch 1:  validation_accuracy:  0.4404 Loss:  0.711664\n",
      "Epoch 76, CIFAR-10 Batch 1:  validation_accuracy:  0.4492 Loss:  0.675903\n",
      "Epoch 77, CIFAR-10 Batch 1:  validation_accuracy:  0.4438 Loss:  0.690595\n",
      "Epoch 78, CIFAR-10 Batch 1:  validation_accuracy:  0.4456 Loss:  0.666322\n",
      "Epoch 79, CIFAR-10 Batch 1:  validation_accuracy:  0.4474 Loss:  0.655975\n",
      "Epoch 80, CIFAR-10 Batch 1:  validation_accuracy:  0.4486 Loss:  0.6617\n",
      "Epoch 81, CIFAR-10 Batch 1:  validation_accuracy:  0.4506 Loss:  0.662125\n",
      "Epoch 82, CIFAR-10 Batch 1:  validation_accuracy:  0.4462 Loss:  0.630914\n",
      "Epoch 83, CIFAR-10 Batch 1:  validation_accuracy:  0.4448 Loss:  0.628874\n",
      "Epoch 84, CIFAR-10 Batch 1:  validation_accuracy:  0.4468 Loss:  0.669947\n",
      "Epoch 85, CIFAR-10 Batch 1:  validation_accuracy:  0.4492 Loss:  0.646177\n",
      "Epoch 86, CIFAR-10 Batch 1:  validation_accuracy:  0.4462 Loss:  0.646934\n",
      "Epoch 87, CIFAR-10 Batch 1:  validation_accuracy:  0.4328 Loss:  0.687992\n",
      "Epoch 88, CIFAR-10 Batch 1:  validation_accuracy:  0.4334 Loss:  0.680938\n",
      "Epoch 89, CIFAR-10 Batch 1:  validation_accuracy:  0.4384 Loss:  0.664346\n",
      "Epoch 90, CIFAR-10 Batch 1:  validation_accuracy:  0.4376 Loss:  0.656706\n",
      "Epoch 91, CIFAR-10 Batch 1:  validation_accuracy:  0.4366 Loss:  0.660061\n",
      "Epoch 92, CIFAR-10 Batch 1:  validation_accuracy:  0.4438 Loss:  0.638686\n",
      "Epoch 93, CIFAR-10 Batch 1:  validation_accuracy:  0.4376 Loss:  0.62063\n",
      "Epoch 94, CIFAR-10 Batch 1:  validation_accuracy:  0.4432 Loss:  0.624986\n",
      "Epoch 95, CIFAR-10 Batch 1:  validation_accuracy:  0.4408 Loss:  0.590219\n",
      "Epoch 96, CIFAR-10 Batch 1:  validation_accuracy:  0.44 Loss:  0.626059\n",
      "Epoch 97, CIFAR-10 Batch 1:  validation_accuracy:  0.4394 Loss:  0.619075\n",
      "Epoch 98, CIFAR-10 Batch 1:  validation_accuracy:  0.4358 Loss:  0.630294\n",
      "Epoch 99, CIFAR-10 Batch 1:  validation_accuracy:  0.4336 Loss:  0.659806\n",
      "Epoch 100, CIFAR-10 Batch 1:  validation_accuracy:  0.4392 Loss:  0.611768\n"
     ]
    }
   ],
   "source": [
    "\"\"\"\n",
    "DON'T MODIFY ANYTHING IN THIS CELL\n",
    "\"\"\"\n",
    "print('Checking the Training on a Single Batch...')\n",
    "with tf.Session() as sess:\n",
    "    # Initializing the variables\n",
    "    sess.run(tf.initialize_all_variables())\n",
    "    \n",
    "    # Training cycle\n",
    "    for epoch in range(epochs):\n",
    "        batch_i = 1\n",
    "        for batch_features, batch_labels in helper.load_preprocess_training_batch(batch_i, batch_size):\n",
    "            train_neural_network(sess, optimizer, keep_probability, batch_features, batch_labels)\n",
    "#         if epoch % 10 == 0:\n",
    "        print('Epoch {:>2}, CIFAR-10 Batch {}:  '.format(epoch + 1, batch_i), end='')\n",
    "        print_stats(sess, batch_features, batch_labels, cost, accuracy)"
   ]
  },
  {
   "cell_type": "markdown",
   "metadata": {},
   "source": [
    "### Fully Train the Model\n",
    "Now that you got a good accuracy with a single CIFAR-10 batch, try it with all five batches."
   ]
  },
  {
   "cell_type": "code",
   "execution_count": 20,
   "metadata": {
    "collapsed": false
   },
   "outputs": [
    {
     "name": "stdout",
     "output_type": "stream",
     "text": [
      "Training...\n",
      "Epoch  1, CIFAR-10 Batch 1:  validation_accuracy:  0.234 Loss:  2.10414\n",
      "Epoch  1, CIFAR-10 Batch 2:  validation_accuracy:  0.29 Loss:  2.0253\n",
      "Epoch  1, CIFAR-10 Batch 3:  validation_accuracy:  0.3148 Loss:  1.77384\n",
      "Epoch  1, CIFAR-10 Batch 4:  validation_accuracy:  0.3438 Loss:  1.799\n",
      "Epoch  1, CIFAR-10 Batch 5:  validation_accuracy:  0.3392 Loss:  1.92195\n",
      "Epoch 11, CIFAR-10 Batch 1:  validation_accuracy:  0.4896 Loss:  1.20121\n",
      "Epoch 11, CIFAR-10 Batch 2:  validation_accuracy:  0.506 Loss:  1.28753\n",
      "Epoch 11, CIFAR-10 Batch 3:  validation_accuracy:  0.492 Loss:  1.21944\n",
      "Epoch 11, CIFAR-10 Batch 4:  validation_accuracy:  0.5 Loss:  1.29376\n",
      "Epoch 11, CIFAR-10 Batch 5:  validation_accuracy:  0.4996 Loss:  1.31608\n",
      "Epoch 21, CIFAR-10 Batch 1:  validation_accuracy:  0.518 Loss:  1.02242\n",
      "Epoch 21, CIFAR-10 Batch 2:  validation_accuracy:  0.534 Loss:  1.27872\n",
      "Epoch 21, CIFAR-10 Batch 3:  validation_accuracy:  0.4998 Loss:  1.16142\n",
      "Epoch 21, CIFAR-10 Batch 4:  validation_accuracy:  0.5268 Loss:  1.17037\n",
      "Epoch 21, CIFAR-10 Batch 5:  validation_accuracy:  0.5242 Loss:  1.28429\n",
      "Epoch 31, CIFAR-10 Batch 1:  validation_accuracy:  0.524 Loss:  0.987078\n",
      "Epoch 31, CIFAR-10 Batch 2:  validation_accuracy:  0.5334 Loss:  1.19006\n",
      "Epoch 31, CIFAR-10 Batch 3:  validation_accuracy:  0.5256 Loss:  1.05711\n",
      "Epoch 31, CIFAR-10 Batch 4:  validation_accuracy:  0.5382 Loss:  1.117\n",
      "Epoch 31, CIFAR-10 Batch 5:  validation_accuracy:  0.5396 Loss:  1.30816\n",
      "Epoch 41, CIFAR-10 Batch 1:  validation_accuracy:  0.5154 Loss:  1.00766\n",
      "Epoch 41, CIFAR-10 Batch 2:  validation_accuracy:  0.5324 Loss:  1.09986\n",
      "Epoch 41, CIFAR-10 Batch 3:  validation_accuracy:  0.5314 Loss:  0.995874\n",
      "Epoch 41, CIFAR-10 Batch 4:  validation_accuracy:  0.5358 Loss:  1.08289\n",
      "Epoch 41, CIFAR-10 Batch 5:  validation_accuracy:  0.5374 Loss:  1.22942\n",
      "Epoch 51, CIFAR-10 Batch 1:  validation_accuracy:  0.5262 Loss:  0.958373\n",
      "Epoch 51, CIFAR-10 Batch 2:  validation_accuracy:  0.5416 Loss:  1.09771\n",
      "Epoch 51, CIFAR-10 Batch 3:  validation_accuracy:  0.5352 Loss:  0.941918\n",
      "Epoch 51, CIFAR-10 Batch 4:  validation_accuracy:  0.5338 Loss:  1.02445\n",
      "Epoch 51, CIFAR-10 Batch 5:  validation_accuracy:  0.5392 Loss:  1.20014\n",
      "Epoch 61, CIFAR-10 Batch 1:  validation_accuracy:  0.5186 Loss:  0.964971\n",
      "Epoch 61, CIFAR-10 Batch 2:  validation_accuracy:  0.5392 Loss:  1.04173\n",
      "Epoch 61, CIFAR-10 Batch 3:  validation_accuracy:  0.5382 Loss:  0.90698\n",
      "Epoch 61, CIFAR-10 Batch 4:  validation_accuracy:  0.5254 Loss:  0.997227\n",
      "Epoch 61, CIFAR-10 Batch 5:  validation_accuracy:  0.5336 Loss:  1.20739\n",
      "Epoch 71, CIFAR-10 Batch 1:  validation_accuracy:  0.5406 Loss:  0.978186\n",
      "Epoch 71, CIFAR-10 Batch 2:  validation_accuracy:  0.5462 Loss:  1.04787\n",
      "Epoch 71, CIFAR-10 Batch 3:  validation_accuracy:  0.5406 Loss:  0.880446\n",
      "Epoch 71, CIFAR-10 Batch 4:  validation_accuracy:  0.5444 Loss:  0.969077\n",
      "Epoch 71, CIFAR-10 Batch 5:  validation_accuracy:  0.5362 Loss:  1.20725\n",
      "Epoch 81, CIFAR-10 Batch 1:  validation_accuracy:  0.5358 Loss:  0.93196\n",
      "Epoch 81, CIFAR-10 Batch 2:  validation_accuracy:  0.5496 Loss:  0.943577\n",
      "Epoch 81, CIFAR-10 Batch 3:  validation_accuracy:  0.5476 Loss:  0.845963\n",
      "Epoch 81, CIFAR-10 Batch 4:  validation_accuracy:  0.5232 Loss:  0.959681\n",
      "Epoch 81, CIFAR-10 Batch 5:  validation_accuracy:  0.5354 Loss:  1.19923\n",
      "Epoch 91, CIFAR-10 Batch 1:  validation_accuracy:  0.5318 Loss:  0.966034\n",
      "Epoch 91, CIFAR-10 Batch 2:  validation_accuracy:  0.5496 Loss:  0.960849\n",
      "Epoch 91, CIFAR-10 Batch 3:  validation_accuracy:  0.5508 Loss:  0.837275\n",
      "Epoch 91, CIFAR-10 Batch 4:  validation_accuracy:  0.5456 Loss:  0.974585\n",
      "Epoch 91, CIFAR-10 Batch 5:  validation_accuracy:  0.539 Loss:  1.13528\n"
     ]
    }
   ],
   "source": [
    "\"\"\"\n",
    "DON'T MODIFY ANYTHING IN THIS CELL\n",
    "\"\"\"\n",
    "save_model_path = './image_classification'\n",
    "\n",
    "print('Training...')\n",
    "with tf.Session() as sess:\n",
    "    # Initializing the variables\n",
    "    sess.run(tf.initialize_all_variables())\n",
    "    \n",
    "    # Training cycle\n",
    "    for epoch in range(epochs):\n",
    "        # Loop over all batches\n",
    "        n_batches = 5\n",
    "        for batch_i in range(1, n_batches + 1):\n",
    "            for batch_features, batch_labels in helper.load_preprocess_training_batch(batch_i, batch_size):\n",
    "                train_neural_network(sess, optimizer, keep_probability, batch_features, batch_labels)\n",
    "            if epoch % 10 == 0:\n",
    "                print('Epoch {:>2}, CIFAR-10 Batch {}:  '.format(epoch + 1, batch_i), end='')\n",
    "                print_stats(sess, batch_features, batch_labels, cost, accuracy)\n",
    "            \n",
    "    # Save Model\n",
    "    saver = tf.train.Saver()\n",
    "    save_path = saver.save(sess, save_model_path)"
   ]
  },
  {
   "cell_type": "markdown",
   "metadata": {},
   "source": [
    "# Checkpoint\n",
    "The model has been saved to disk.\n",
    "## Test Model\n",
    "Test your model against the test dataset.  This will be your final accuracy. You should have an accuracy greater than 50%. If you don't, keep tweaking the model architecture and parameters."
   ]
  },
  {
   "cell_type": "code",
   "execution_count": 21,
   "metadata": {
    "collapsed": false
   },
   "outputs": [
    {
     "name": "stdout",
     "output_type": "stream",
     "text": [
      "Testing Accuracy: 0.5380735759493671\n",
      "\n"
     ]
    },
    {
     "data": {
      "image/png": "[encoded data removed]",
      "text/plain": [
       "<matplotlib.figure.Figure at 0x7f8004897390>"
      ]
     },
     "metadata": {
      "image/png": {
       "height": 319,
       "width": 355
      }
     },
     "output_type": "display_data"
    }
   ],
   "source": [
    "\"\"\"\n",
    "DON'T MODIFY ANYTHING IN THIS CELL\n",
    "\"\"\"\n",
    "%matplotlib inline\n",
    "%config InlineBackend.figure_format = 'retina'\n",
    "\n",
    "import tensorflow as tf\n",
    "import pickle\n",
    "import helper\n",
    "import random\n",
    "\n",
    "# Set batch size if not already set\n",
    "try:\n",
    "    if batch_size:\n",
    "        pass\n",
    "except NameError:\n",
    "    batch_size = 64\n",
    "\n",
    "save_model_path = './image_classification'\n",
    "n_samples = 4\n",
    "top_n_predictions = 3\n",
    "\n",
    "def test_model():\n",
    "    \"\"\"\n",
    "    Test the saved model against the test dataset\n",
    "    \"\"\"\n",
    "\n",
    "    test_features, test_labels = pickle.load(open('preprocess_training.p', mode='rb'))\n",
    "    loaded_graph = tf.Graph()\n",
    "\n",
    "    with tf.Session(graph=loaded_graph) as sess:\n",
    "        # Load model\n",
    "        loader = tf.train.import_meta_graph(save_model_path + '.meta')\n",
    "        loader.restore(sess, save_model_path)\n",
    "\n",
    "        # Get Tensors from loaded model\n",
    "        loaded_x = loaded_graph.get_tensor_by_name('x:0')\n",
    "        loaded_y = loaded_graph.get_tensor_by_name('y:0')\n",
    "        loaded_keep_prob = loaded_graph.get_tensor_by_name('keep_prob:0')\n",
    "        loaded_logits = loaded_graph.get_tensor_by_name('logits:0')\n",
    "        loaded_acc = loaded_graph.get_tensor_by_name('accuracy:0')\n",
    "        \n",
    "        # Get accuracy in batches for memory limitations\n",
    "        test_batch_acc_total = 0\n",
    "        test_batch_count = 0\n",
    "        \n",
    "        for train_feature_batch, train_label_batch in helper.batch_features_labels(test_features, test_labels, batch_size):\n",
    "            test_batch_acc_total += sess.run(\n",
    "                loaded_acc,\n",
    "                feed_dict={loaded_x: train_feature_batch, loaded_y: train_label_batch, loaded_keep_prob: 1.0})\n",
    "            test_batch_count += 1\n",
    "\n",
    "        print('Testing Accuracy: {}\\n'.format(test_batch_acc_total/test_batch_count))\n",
    "\n",
    "        # Print Random Samples\n",
    "        random_test_features, random_test_labels = tuple(zip(*random.sample(list(zip(test_features, test_labels)), n_samples)))\n",
    "        random_test_predictions = sess.run(\n",
    "            tf.nn.top_k(tf.nn.softmax(loaded_logits), top_n_predictions),\n",
    "            feed_dict={loaded_x: random_test_features, loaded_y: random_test_labels, loaded_keep_prob: 1.0})\n",
    "        helper.display_image_predictions(random_test_features, random_test_labels, random_test_predictions)\n",
    "\n",
    "\n",
    "test_model()"
   ]
  },
  {
   "cell_type": "markdown",
   "metadata": {},
   "source": [
    "## Why 50-70% Accuracy?\n",
    "You might be wondering why you can't get an accuracy any higher. First things first, 50% isn't bad for a simple CNN.  Pure guessing would get you 10% accuracy. However, you might notice people are getting scores [well above 70%](http://rodrigob.github.io/are_we_there_yet/build/classification_datasets_results.html#43494641522d3130).  That's because we haven't taught you all there is to know about neural networks. We still need to cover a few more techniques.\n",
    "## Submitting This Project\n",
    "When submitting this project, make sure to run all the cells before saving the notebook.  Save the notebook file as \"dlnd_image_classification.ipynb\" and save it as a HTML file under \"File\" -> \"Download as\".  Include the \"helper.py\" and \"problem_unittests.py\" files in your submission."
   ]
  },
  {
   "cell_type": "code",
   "execution_count": null,
   "metadata": {
    "collapsed": true
   },
   "outputs": [],
   "source": []
  },
  {
   "cell_type": "code",
   "execution_count": null,
   "metadata": {
    "collapsed": true
   },
   "outputs": [],
   "source": []
  }
 ],
 "metadata": {
  "kernelspec": {
   "display_name": "Python [default]",
   "language": "python",
   "name": "python3"
  },
  "language_info": {
   "codemirror_mode": {
    "name": "ipython",
    "version": 3
   },
   "file_extension": ".py",
   "mimetype": "text/x-python",
   "name": "python",
   "nbconvert_exporter": "python",
   "pygments_lexer": "ipython3",
   "version": "3.5.2"
  }
 },
 "nbformat": 4,
 "nbformat_minor": 0
}
