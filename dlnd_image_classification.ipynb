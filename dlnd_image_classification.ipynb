{
 "cells": [
  {
   "cell_type": "markdown",
   "metadata": {
    "collapsed": true
   },
   "source": [
    "# Image Classification\n",
    "In this project, you'll classify images from the [CIFAR-10 dataset](https://www.cs.toronto.edu/~kriz/cifar.html).  The dataset consists of airplanes, dogs, cats, and other objects. You'll preprocess the images, then train a convolutional neural network on all the samples. The images need to be normalized and the labels need to be one-hot encoded.  You'll get to apply what you learned and build a convolutional, max pooling, dropout, and fully connected layers.  At the end, you'll get to see your neural network's predictions on the sample images.\n",
    "## Get the Data\n",
    "Run the following cell to download the [CIFAR-10 dataset for python](https://www.cs.toronto.edu/~kriz/cifar-10-python.tar.gz)."
   ]
  },
  {
   "cell_type": "code",
   "execution_count": 1,
   "metadata": {
    "collapsed": false
   },
   "outputs": [
    {
     "name": "stderr",
     "output_type": "stream",
     "text": [
      "CIFAR-10 Dataset: 171MB [01:01, 2.75MB/s]                              \n"
     ]
    },
    {
     "name": "stdout",
     "output_type": "stream",
     "text": [
      "All files found!\n"
     ]
    }
   ],
   "source": [
    "\"\"\"\n",
    "DON'T MODIFY ANYTHING IN THIS CELL THAT IS BELOW THIS LINE\n",
    "\"\"\"\n",
    "from urllib.request import urlretrieve\n",
    "from os.path import isfile, isdir\n",
    "from tqdm import tqdm\n",
    "import problem_unittests as tests\n",
    "import tarfile\n",
    "\n",
    "cifar10_dataset_folder_path = 'cifar-10-batches-py'\n",
    "\n",
    "class DLProgress(tqdm):\n",
    "    last_block = 0\n",
    "\n",
    "    def hook(self, block_num=1, block_size=1, total_size=None):\n",
    "        self.total = total_size\n",
    "        self.update((block_num - self.last_block) * block_size)\n",
    "        self.last_block = block_num\n",
    "\n",
    "if not isfile('cifar-10-python.tar.gz'):\n",
    "    with DLProgress(unit='B', unit_scale=True, miniters=1, desc='CIFAR-10 Dataset') as pbar:\n",
    "        urlretrieve(\n",
    "            'https://www.cs.toronto.edu/~kriz/cifar-10-python.tar.gz',\n",
    "            'cifar-10-python.tar.gz',\n",
    "            pbar.hook)\n",
    "\n",
    "if not isdir(cifar10_dataset_folder_path):\n",
    "    with tarfile.open('cifar-10-python.tar.gz') as tar:\n",
    "        tar.extractall()\n",
    "        tar.close()\n",
    "\n",
    "\n",
    "tests.test_folder_path(cifar10_dataset_folder_path)"
   ]
  },
  {
   "cell_type": "markdown",
   "metadata": {},
   "source": [
    "## Explore the Data\n",
    "The dataset is broken into batches to prevent your machine from running out of memory.  The CIFAR-10 dataset consists of 5 batches, named `data_batch_1`, `data_batch_2`, etc.. Each batch contains the labels and images that are one of the following:\n",
    "* airplane\n",
    "* automobile\n",
    "* bird\n",
    "* cat\n",
    "* deer\n",
    "* dog\n",
    "* frog\n",
    "* horse\n",
    "* ship\n",
    "* truck\n",
    "\n",
    "Understanding a dataset is part of making predictions on the data.  Play around with the code cell below by changing the `batch_id` and `sample_id`. The `batch_id` is the id for a batch (1-5). The `sample_id` is the id for a image and label pair in the batch.\n",
    "\n",
    "Ask yourself \"What are all possible labels?\", \"What is the range of values for the image data?\", \"Are the labels in order or random?\".  Answers to questions like these will help you preprocess the data and end up with better predictions."
   ]
  },
  {
   "cell_type": "code",
   "execution_count": 2,
   "metadata": {
    "collapsed": false
   },
   "outputs": [
    {
     "name": "stdout",
     "output_type": "stream",
     "text": [
      "\n",
      "Stats of batch 1:\n",
      "Samples: 10000\n",
      "Label Counts: {0: 1005, 1: 974, 2: 1032, 3: 1016, 4: 999, 5: 937, 6: 1030, 7: 1001, 8: 1025, 9: 981}\n",
      "First 20 Labels: [6, 9, 9, 4, 1, 1, 2, 7, 8, 3, 4, 7, 7, 2, 9, 9, 9, 3, 2, 6]\n",
      "\n",
      "Example of Image 5:\n",
      "Image - Min Value: 0 Max Value: 252\n",
      "Image - Shape: (32, 32, 3)\n",
      "Label - Label Id: 1 Name: automobile\n"
     ]
    },
    {
     "data": {
      "image/png": "[encoded data removed]",
      "text/plain": [
       "<matplotlib.figure.Figure at 0x7fc6102f3cc0>"
      ]
     },
     "metadata": {
      "image/png": {
       "height": 250,
       "width": 253
      }
     },
     "output_type": "display_data"
    }
   ],
   "source": [
    "%matplotlib inline\n",
    "%config InlineBackend.figure_format = 'retina'\n",
    "\n",
    "import helper\n",
    "import numpy as np\n",
    "\n",
    "# Explore the dataset\n",
    "batch_id = 1\n",
    "sample_id = 5\n",
    "helper.display_stats(cifar10_dataset_folder_path, batch_id, sample_id)"
   ]
  },
  {
   "cell_type": "markdown",
   "metadata": {},
   "source": [
    "## Implement Preprocess Functions\n",
    "### Normalize\n",
    "In the cell below, implement the `normalize` function to take in image data, `x`, and return it as a normalized Numpy array. The values should be in the range of 0 to 1, inclusive.  The return object should be the same shape as `x`."
   ]
  },
  {
   "cell_type": "code",
   "execution_count": 3,
   "metadata": {
    "collapsed": false
   },
   "outputs": [
    {
     "name": "stdout",
     "output_type": "stream",
     "text": [
      "Tests Passed\n"
     ]
    }
   ],
   "source": [
    "def normalize(x):\n",
    "    \"\"\"\n",
    "    Normalize a list of sample image data in the range of 0 to 1\n",
    "    : x: List of image data.  The image shape is (32, 32, 3)\n",
    "    : return: Numpy array of normalize data\n",
    "    \"\"\"\n",
    "    # TODO: Implement Function\n",
    "    image_normalized = (x - np.min(x))/ ((np.max(x) - np.min(x)))\n",
    "    \n",
    "    return image_normalized\n",
    "\n",
    "\n",
    "\"\"\"\n",
    "DON'T MODIFY ANYTHING IN THIS CELL THAT IS BELOW THIS LINE\n",
    "\"\"\"\n",
    "tests.test_normalize(normalize)"
   ]
  },
  {
   "cell_type": "markdown",
   "metadata": {},
   "source": [
    "### One-hot encode\n",
    "Just like the previous code cell, you'll be implementing a function for preprocessing.  This time, you'll implement the `one_hot_encode` function. The input, `x`, are a list of labels.  Implement the function to return the list of labels as One-Hot encoded Numpy array.  The possible values for labels are 0 to 9. The one-hot encoding function should return the same encoding for each value between each call to `one_hot_encode`.  Make sure to save the map of encodings outside the function.\n",
    "\n",
    "Hint: Don't reinvent the wheel."
   ]
  },
  {
   "cell_type": "code",
   "execution_count": 4,
   "metadata": {
    "collapsed": false
   },
   "outputs": [
    {
     "name": "stdout",
     "output_type": "stream",
     "text": [
      "Tests Passed\n"
     ]
    }
   ],
   "source": [
    "def one_hot_encode(x):\n",
    "    \"\"\"\n",
    "    One hot encode a list of sample labels. Return a one-hot encoded vector for each label.\n",
    "    : x: List of sample Labels\n",
    "    : return: Numpy array of one-hot encoded labels\n",
    "    \"\"\"\n",
    "    # TODO: Implement Function\n",
    "    y_train_encoded = np.eye(10)[x]\n",
    "   \n",
    "    return y_train_encoded\n",
    "\n",
    "\n",
    "\"\"\"\n",
    "DON'T MODIFY ANYTHING IN THIS CELL THAT IS BELOW THIS LINE\n",
    "\"\"\"\n",
    "tests.test_one_hot_encode(one_hot_encode)"
   ]
  },
  {
   "cell_type": "markdown",
   "metadata": {},
   "source": [
    "### Randomize Data\n",
    "As you saw from exploring the data above, the order of the samples are randomized.  It doesn't hurt to randomize it again, but you don't need to for this dataset."
   ]
  },
  {
   "cell_type": "markdown",
   "metadata": {},
   "source": [
    "## Preprocess all the data and save it\n",
    "Running the code cell below will preprocess all the CIFAR-10 data and save it to file. The code below also uses 10% of the training data for validation."
   ]
  },
  {
   "cell_type": "code",
   "execution_count": 5,
   "metadata": {
    "collapsed": false
   },
   "outputs": [],
   "source": [
    "\"\"\"\n",
    "DON'T MODIFY ANYTHING IN THIS CELL\n",
    "\"\"\"\n",
    "# Preprocess Training, Validation, and Testing Data\n",
    "helper.preprocess_and_save_data(cifar10_dataset_folder_path, normalize, one_hot_encode)"
   ]
  },
  {
   "cell_type": "markdown",
   "metadata": {},
   "source": [
    "# Check Point\n",
    "This is your first checkpoint.  If you ever decide to come back to this notebook or have to restart the notebook, you can start from here.  The preprocessed data has been saved to disk."
   ]
  },
  {
   "cell_type": "code",
   "execution_count": 6,
   "metadata": {
    "collapsed": true
   },
   "outputs": [],
   "source": [
    "\"\"\"\n",
    "DON'T MODIFY ANYTHING IN THIS CELL\n",
    "\"\"\"\n",
    "import pickle\n",
    "import problem_unittests as tests\n",
    "import helper\n",
    "\n",
    "# Load the Preprocessed Validation data\n",
    "valid_features, valid_labels = pickle.load(open('preprocess_validation.p', mode='rb'))"
   ]
  },
  {
   "cell_type": "markdown",
   "metadata": {},
   "source": [
    "## Build the network\n",
    "For the neural network, you'll build each layer into a function.  Most of the code you've seen has been outside of functions. To test your code more thoroughly, we require that you put each layer in a function.  This allows us to give you better feedback and test for simple mistakes using our unittests before you submit your project.\n",
    "\n",
    ">**Note:** If you're finding it hard to dedicate enough time for this course each week, we've provided a small shortcut to this part of the project. In the next couple of problems, you'll have the option to use classes from the [TensorFlow Layers](https://www.tensorflow.org/api_docs/python/tf/layers) or [TensorFlow Layers (contrib)](https://www.tensorflow.org/api_guides/python/contrib.layers) packages to build each layer, except the layers you build in the \"Convolutional and Max Pooling Layer\" section.  TF Layers is similar to Keras's and TFLearn's abstraction to layers, so it's easy to pickup.\n",
    "\n",
    ">However, if you would like to get the most out of this course, try to solve all the problems _without_ using anything from the TF Layers packages. You **can** still use classes from other packages that happen to have the same name as ones you find in TF Layers! For example, instead of using the TF Layers version of the `conv2d` class, [tf.layers.conv2d](https://www.tensorflow.org/api_docs/python/tf/layers/conv2d), you would want to use the TF Neural Network version of `conv2d`, [tf.nn.conv2d](https://www.tensorflow.org/api_docs/python/tf/nn/conv2d). \n",
    "\n",
    "Let's begin!\n",
    "\n",
    "### Input\n",
    "The neural network needs to read the image data, one-hot encoded labels, and dropout keep probability. Implement the following functions\n",
    "* Implement `neural_net_image_input`\n",
    " * Return a [TF Placeholder](https://www.tensorflow.org/api_docs/python/tf/placeholder)\n",
    " * Set the shape using `image_shape` with batch size set to `None`.\n",
    " * Name the TensorFlow placeholder \"x\" using the TensorFlow `name` parameter in the [TF Placeholder](https://www.tensorflow.org/api_docs/python/tf/placeholder).\n",
    "* Implement `neural_net_label_input`\n",
    " * Return a [TF Placeholder](https://www.tensorflow.org/api_docs/python/tf/placeholder)\n",
    " * Set the shape using `n_classes` with batch size set to `None`.\n",
    " * Name the TensorFlow placeholder \"y\" using the TensorFlow `name` parameter in the [TF Placeholder](https://www.tensorflow.org/api_docs/python/tf/placeholder).\n",
    "* Implement `neural_net_keep_prob_input`\n",
    " * Return a [TF Placeholder](https://www.tensorflow.org/api_docs/python/tf/placeholder) for dropout keep probability.\n",
    " * Name the TensorFlow placeholder \"keep_prob\" using the TensorFlow `name` parameter in the [TF Placeholder](https://www.tensorflow.org/api_docs/python/tf/placeholder).\n",
    "\n",
    "These names will be used at the end of the project to load your saved model.\n",
    "\n",
    "Note: `None` for shapes in TensorFlow allow for a dynamic size."
   ]
  },
  {
   "cell_type": "code",
   "execution_count": 7,
   "metadata": {
    "collapsed": false
   },
   "outputs": [
    {
     "name": "stdout",
     "output_type": "stream",
     "text": [
      "Image Input Tests Passed.\n",
      "Label Input Tests Passed.\n",
      "Keep Prob Tests Passed.\n"
     ]
    }
   ],
   "source": [
    "import tensorflow as tf\n",
    "\n",
    "def neural_net_image_input(image_shape):\n",
    "    \"\"\"\n",
    "    Return a Tensor for a batch of image input\n",
    "    : image_shape: Shape of the images\n",
    "    : return: Tensor for image input.\n",
    "    \"\"\"\n",
    "    # TODO: Implement Function\n",
    "    x = tf.placeholder(tf.float32, shape = (None, image_shape[0], image_shape[1], image_shape[2]), name = 'x')\n",
    "\n",
    "    return x\n",
    "\n",
    "\n",
    "\n",
    "def neural_net_label_input(n_classes):\n",
    "    \"\"\"\n",
    "    Return a Tensor for a batch of label input\n",
    "    : n_classes: Number of classes\n",
    "    : return: Tensor for label input.\n",
    "    \"\"\"\n",
    "    # TODO: Implement Function\n",
    "    y = tf.placeholder(tf.float32, [None, n_classes], name = 'y')\n",
    "    return y\n",
    "\n",
    "\n",
    "def neural_net_keep_prob_input():\n",
    "    \"\"\"\n",
    "    Return a Tensor for keep probability\n",
    "    : return: Tensor for keep probability.\n",
    "    \"\"\"\n",
    "    # TODO: Implement Function\n",
    "    keep_prob = tf.placeholder(tf.float32, name = 'keep_prob')\n",
    "    \n",
    "    return keep_prob\n",
    "\n",
    "\n",
    "\"\"\"\n",
    "DON'T MODIFY ANYTHING IN THIS CELL THAT IS BELOW THIS LINE\n",
    "\"\"\"\n",
    "tf.reset_default_graph()\n",
    "tests.test_nn_image_inputs(neural_net_image_input)\n",
    "tests.test_nn_label_inputs(neural_net_label_input)\n",
    "tests.test_nn_keep_prob_inputs(neural_net_keep_prob_input)"
   ]
  },
  {
   "cell_type": "markdown",
   "metadata": {},
   "source": [
    "### Convolution and Max Pooling Layer\n",
    "Convolution layers have a lot of success with images. For this code cell, you should implement the function `conv2d_maxpool` to apply convolution then max pooling:\n",
    "* Create the weight and bias using `conv_ksize`, `conv_num_outputs` and the shape of `x_tensor`.\n",
    "* Apply a convolution to `x_tensor` using weight and `conv_strides`.\n",
    " * We recommend you use same padding, but you're welcome to use any padding.\n",
    "* Add bias\n",
    "* Add a nonlinear activation to the convolution.\n",
    "* Apply Max Pooling using `pool_ksize` and `pool_strides`.\n",
    " * We recommend you use same padding, but you're welcome to use any padding.\n",
    "\n",
    "**Note:** You **can't** use [TensorFlow Layers](https://www.tensorflow.org/api_docs/python/tf/layers) or [TensorFlow Layers (contrib)](https://www.tensorflow.org/api_guides/python/contrib.layers) for **this** layer, but you can still use TensorFlow's [Neural Network](https://www.tensorflow.org/api_docs/python/tf/nn) package. You may still use the shortcut option for all the **other** layers."
   ]
  },
  {
   "cell_type": "code",
   "execution_count": 21,
   "metadata": {
    "collapsed": false
   },
   "outputs": [
    {
     "name": "stdout",
     "output_type": "stream",
     "text": [
      "Tests Passed\n"
     ]
    }
   ],
   "source": [
    "def conv2d_maxpool(x_tensor, conv_num_outputs, conv_ksize, conv_strides, pool_ksize, pool_strides):\n",
    "    \"\"\"\n",
    "    Apply convolution then max pooling to x_tensor\n",
    "    :param x_tensor: TensorFlow Tensor\n",
    "    :param conv_num_outputs: Number of outputs for the convolutional layer\n",
    "    :param conv_ksize: kernal size 2-D Tuple for the convolutional layer\n",
    "    :param conv_strides: Stride 2-D Tuple for convolution\n",
    "    :param pool_ksize: kernal size 2-D Tuple for pool\n",
    "    :param pool_strides: Stride 2-D Tuple for pool\n",
    "    : return: A tensor that represents convolution and max pooling of x_tensor\n",
    "    \"\"\"\n",
    "    # TODO: Implement Function    \n",
    "\n",
    "    shape = [conv_ksize[0],conv_ksize[1], x_tensor.get_shape().as_list()[-1], conv_num_outputs]\n",
    "    \n",
    "    weights1 = tf.Variable(tf.truncated_normal(shape, stddev=0.05))\n",
    "#     weight = tf.Variable(tf.truncated_normal([filter_size_height, filter_size_width, color_channels, k_output])\n",
    "    \n",
    "    biases1 = tf.Variable(tf.constant(0.05, shape=[conv_num_outputs]))\n",
    "    \n",
    "    layer_conv1 = tf.nn.conv2d(input = x_tensor, filter=weights1, strides=[1, conv_strides[0], conv_strides[1], 1], padding='VALID') + biases1\n",
    "    layer_conv1 = tf.nn.max_pool(value=layer_conv1, ksize=[1, pool_ksize[0], pool_ksize[1], 1], strides=[1, pool_strides[0], pool_strides[1], 1], padding='VALID')\n",
    "    return layer_conv1\n",
    "\n",
    "\n",
    "\"\"\"\n",
    "DON'T MODIFY ANYTHING IN THIS CELL THAT IS BELOW THIS LINE\n",
    "\"\"\"\n",
    "tests.test_con_pool(conv2d_maxpool)"
   ]
  },
  {
   "cell_type": "markdown",
   "metadata": {},
   "source": [
    "### Flatten Layer\n",
    "Implement the `flatten` function to change the dimension of `x_tensor` from a 4-D tensor to a 2-D tensor.  The output should be the shape (*Batch Size*, *Flattened Image Size*). Shortcut option: you can use classes from the [TensorFlow Layers](https://www.tensorflow.org/api_docs/python/tf/layers) or [TensorFlow Layers (contrib)](https://www.tensorflow.org/api_guides/python/contrib.layers) packages for this layer. For more of a challenge, only use other TensorFlow packages."
   ]
  },
  {
   "cell_type": "code",
   "execution_count": 33,
   "metadata": {
    "collapsed": false
   },
   "outputs": [
    {
     "name": "stdout",
     "output_type": "stream",
     "text": [
      "Tensor(\"Reshape_4:0\", shape=(?, 1800), dtype=float32)\n",
      "Tests Passed\n"
     ]
    }
   ],
   "source": [
    "def flatten(x_tensor):\n",
    "    \"\"\"\n",
    "    Flatten x_tensor to (Batch Size, Flattened Image Size)\n",
    "    : x_tensor: A tensor of size (Batch Size, ...), where ... are the image dimensions.\n",
    "    : return: A tensor of size (Batch Size, Flattened Image Size).\n",
    "    \"\"\"\n",
    "    # TODO: Implement Function\n",
    "    batch_size = x_tensor.get_shape()[0]\n",
    "    w = x_tensor.get_shape().as_list()[1]\n",
    "    h = x_tensor.get_shape().as_list()[2]\n",
    "    d = x_tensor.get_shape().as_list()[3]\n",
    "    \n",
    "    flat_shape = w * h * d\n",
    "    \n",
    "    return tf.reshape(x_tensor, [-1, flat_shape])\n",
    "\n",
    "\n",
    "\"\"\"\n",
    "DON'T MODIFY ANYTHING IN THIS CELL THAT IS BELOW THIS LINE\n",
    "\"\"\"\n",
    "tests.test_flatten(flatten)"
   ]
  },
  {
   "cell_type": "markdown",
   "metadata": {},
   "source": [
    "### Fully-Connected Layer\n",
    "Implement the `fully_conn` function to apply a fully connected layer to `x_tensor` with the shape (*Batch Size*, *num_outputs*). Shortcut option: you can use classes from the [TensorFlow Layers](https://www.tensorflow.org/api_docs/python/tf/layers) or [TensorFlow Layers (contrib)](https://www.tensorflow.org/api_guides/python/contrib.layers) packages for this layer. For more of a challenge, only use other TensorFlow packages."
   ]
  },
  {
   "cell_type": "code",
   "execution_count": 36,
   "metadata": {
    "collapsed": false
   },
   "outputs": [
    {
     "name": "stdout",
     "output_type": "stream",
     "text": [
      "Tests Passed\n"
     ]
    }
   ],
   "source": [
    "def fully_conn(x_tensor, num_outputs):\n",
    "    \"\"\"\n",
    "    Apply a fully connected layer to x_tensor using weight and bias\n",
    "    : x_tensor: A 2-D tensor where the first dimension is batch size.\n",
    "    : num_outputs: The number of output that the new tensor should be.\n",
    "    : return: A 2-D tensor where the second dimension is num_outputs.\n",
    "    \"\"\"\n",
    "    # TODO: Implement Function\n",
    "    fc1_shape = (x_tensor.get_shape().as_list()[-1], num_outputs)\n",
    "    fc1_size = num_outputs\n",
    "\n",
    "    weights_fc1 = tf.Variable(tf.truncated_normal(shape=(fc1_shape)))\n",
    "    biases_fc1 = tf.Variable(tf.constant(0.05, shape=[fc1_size]))\n",
    "                  \n",
    "    fc1 = tf.matmul(x_tensor, weights_fc1) + biases_fc1\n",
    "    fc1 = tf.nn.relu(fc1)\n",
    "    \n",
    "    return fc1\n",
    "\n",
    "\n",
    "\"\"\"\n",
    "DON'T MODIFY ANYTHING IN THIS CELL THAT IS BELOW THIS LINE\n",
    "\"\"\"\n",
    "tests.test_fully_conn(fully_conn)"
   ]
  },
  {
   "cell_type": "markdown",
   "metadata": {},
   "source": [
    "### Output Layer\n",
    "Implement the `output` function to apply a fully connected layer to `x_tensor` with the shape (*Batch Size*, *num_outputs*). Shortcut option: you can use classes from the [TensorFlow Layers](https://www.tensorflow.org/api_docs/python/tf/layers) or [TensorFlow Layers (contrib)](https://www.tensorflow.org/api_guides/python/contrib.layers) packages for this layer. For more of a challenge, only use other TensorFlow packages.\n",
    "\n",
    "**Note:** Activation, softmax, or cross entropy should **not** be applied to this."
   ]
  },
  {
   "cell_type": "code",
   "execution_count": 37,
   "metadata": {
    "collapsed": false
   },
   "outputs": [
    {
     "name": "stdout",
     "output_type": "stream",
     "text": [
      "Tests Passed\n"
     ]
    }
   ],
   "source": [
    "def output(x_tensor, num_outputs):\n",
    "    \"\"\"\n",
    "    Apply a output layer to x_tensor using weight and bias\n",
    "    : x_tensor: A 2-D tensor where the first dimension is batch size.\n",
    "    : num_outputs: The number of output that the new tensor should be.\n",
    "    : return: A 2-D tensor where the second dimension is num_outputs.\n",
    "    \"\"\"\n",
    "    # TODO: Implement Function\n",
    "    out_shape = (x_tensor.get_shape().as_list()[-1], num_outputs)\n",
    "    out_size = num_outputs\n",
    "\n",
    "    weights_out = tf.Variable(tf.truncated_normal(shape=(out_shape)))\n",
    "    biases_out = tf.Variable(tf.constant(0.05, shape=[out_size]))\n",
    "                  \n",
    "    out = tf.matmul(x_tensor, weights_out) + biases_out\n",
    "   \n",
    "    \n",
    "    return out\n",
    "    return None\n",
    "\n",
    "\n",
    "\"\"\"\n",
    "DON'T MODIFY ANYTHING IN THIS CELL THAT IS BELOW THIS LINE\n",
    "\"\"\"\n",
    "tests.test_output(output)"
   ]
  },
  {
   "cell_type": "markdown",
   "metadata": {},
   "source": [
    "### Create Convolutional Model\n",
    "Implement the function `conv_net` to create a convolutional neural network model. The function takes in a batch of images, `x`, and outputs logits.  Use the layers you created above to create this model:\n",
    "\n",
    "* Apply 1, 2, or 3 Convolution and Max Pool layers\n",
    "* Apply a Flatten Layer\n",
    "* Apply 1, 2, or 3 Fully Connected Layers\n",
    "* Apply an Output Layer\n",
    "* Return the output\n",
    "* Apply [TensorFlow's Dropout](https://www.tensorflow.org/api_docs/python/tf/nn/dropout) to one or more layers in the model using `keep_prob`. "
   ]
  },
  {
   "cell_type": "code",
   "execution_count": 41,
   "metadata": {
    "collapsed": false
   },
   "outputs": [
    {
     "name": "stdout",
     "output_type": "stream",
     "text": [
      "Tensor(\"Reshape:0\", shape=(?, 1350), dtype=float32)\n",
      "Tensor(\"Reshape_2:0\", shape=(?, 1350), dtype=float32)\n",
      "Neural Network Built!\n"
     ]
    }
   ],
   "source": [
    "def conv_net(x, keep_prob):\n",
    "    \"\"\"\n",
    "    Create a convolutional neural network model\n",
    "    : x: Placeholder tensor that holds image data.\n",
    "    : keep_prob: Placeholder tensor that hold dropout keep probability.\n",
    "    : return: Tensor that represents logits\n",
    "    \"\"\"\n",
    "    # TODO: Apply 1, 2, or 3 Convolution and Max Pool layers\n",
    "    #    Play around with different number of outputs, kernel size and stride\n",
    "    # Function Definition from Above:\n",
    "    #    conv2d_maxpool(x_tensor, conv_num_outputs, conv_ksize, conv_strides, pool_ksize, pool_strides)\n",
    "    conv_num_outputs = 6\n",
    "    conv_ksize = (2,2)\n",
    "    conv_strides = (2,2)\n",
    "    pool_ksize = (2,2)\n",
    "    pool_strides = (1,1)\n",
    "    \n",
    "    \n",
    "    conv_layer1 = conv2d_maxpool(x, conv_num_outputs, conv_ksize, conv_strides, pool_ksize, pool_strides)\n",
    "    \n",
    "    # TODO: Apply a Flatten Layer\n",
    "    # Function Definition from Above:\n",
    "    #   flatten(x_tensor)\n",
    "    \n",
    "    flat = flatten(conv_layer1)\n",
    "\n",
    "    # TODO: Apply 1, 2, or 3 Fully Connected Layers\n",
    "    #    Play around with different number of outputs\n",
    "    # Function Definition from Above:\n",
    "    #   fully_conn(x_tensor, num_outputs)\n",
    "    \n",
    "    num_outputs = 100\n",
    "    fc1  = fully_conn(flat, num_outputs)\n",
    "    \n",
    "    # TODO: Apply an Output Layer\n",
    "    #    Set this to the number of classes\n",
    "    # Function Definition from Above:\n",
    "    #   output(x_tensor, num_outputs)\n",
    "    \n",
    "    num_classes = 10\n",
    "    out = output(fc1, num_classes)\n",
    "    \n",
    "    # TODO: return output\n",
    "    return out\n",
    "\n",
    "\n",
    "\"\"\"\n",
    "DON'T MODIFY ANYTHING IN THIS CELL THAT IS BELOW THIS LINE\n",
    "\"\"\"\n",
    "\n",
    "##############################\n",
    "## Build the Neural Network ##\n",
    "##############################\n",
    "\n",
    "# Remove previous weights, bias, inputs, etc..\n",
    "tf.reset_default_graph()\n",
    "\n",
    "# Inputs\n",
    "x = neural_net_image_input((32, 32, 3))\n",
    "y = neural_net_label_input(10)\n",
    "keep_prob = neural_net_keep_prob_input()\n",
    "\n",
    "# Model\n",
    "logits = conv_net(x, keep_prob)\n",
    "\n",
    "# Name logits Tensor, so that is can be loaded from disk after training\n",
    "logits = tf.identity(logits, name='logits')\n",
    "\n",
    "# Loss and Optimizer\n",
    "cost = tf.reduce_mean(tf.nn.softmax_cross_entropy_with_logits(logits=logits, labels=y))\n",
    "optimizer = tf.train.AdamOptimizer().minimize(cost)\n",
    "\n",
    "# Accuracy\n",
    "correct_pred = tf.equal(tf.argmax(logits, 1), tf.argmax(y, 1))\n",
    "accuracy = tf.reduce_mean(tf.cast(correct_pred, tf.float32), name='accuracy')\n",
    "\n",
    "tests.test_conv_net(conv_net)"
   ]
  },
  {
   "cell_type": "markdown",
   "metadata": {},
   "source": [
    "## Train the Neural Network\n",
    "### Single Optimization\n",
    "Implement the function `train_neural_network` to do a single optimization.  The optimization should use `optimizer` to optimize in `session` with a `feed_dict` of the following:\n",
    "* `x` for image input\n",
    "* `y` for labels\n",
    "* `keep_prob` for keep probability for dropout\n",
    "\n",
    "This function will be called for each batch, so `tf.global_variables_initializer()` has already been called.\n",
    "\n",
    "Note: Nothing needs to be returned. This function is only optimizing the neural network."
   ]
  },
  {
   "cell_type": "code",
   "execution_count": 42,
   "metadata": {
    "collapsed": false
   },
   "outputs": [
    {
     "name": "stdout",
     "output_type": "stream",
     "text": [
      "Tests Passed\n"
     ]
    }
   ],
   "source": [
    "def train_neural_network(session, optimizer, keep_probability, feature_batch, label_batch):\n",
    "    \"\"\"\n",
    "    Optimize the session on a batch of images and labels\n",
    "    : session: Current TensorFlow session\n",
    "    : optimizer: TensorFlow optimizer function\n",
    "    : keep_probability: keep probability\n",
    "    : feature_batch: Batch of Numpy image data\n",
    "    : label_batch: Batch of Numpy label data\n",
    "    \"\"\"\n",
    "    # TODO: Implement Function\n",
    "    \n",
    "    feed_dict_batch = {x: feature_batch, y: label_batch}\n",
    "    session.run(optimizer, feed_dict = feed_dict_batch)\n",
    "    pass\n",
    "\n",
    "\n",
    "\"\"\"\n",
    "DON'T MODIFY ANYTHING IN THIS CELL THAT IS BELOW THIS LINE\n",
    "\"\"\"\n",
    "tests.test_train_nn(train_neural_network)"
   ]
  },
  {
   "cell_type": "markdown",
   "metadata": {},
   "source": [
    "### Show Stats\n",
    "Implement the function `print_stats` to print loss and validation accuracy.  Use the global variables `valid_features` and `valid_labels` to calculate validation accuracy.  Use a keep probability of `1.0` to calculate the loss and validation accuracy."
   ]
  },
  {
   "cell_type": "code",
   "execution_count": 44,
   "metadata": {
    "collapsed": false
   },
   "outputs": [],
   "source": [
    "def print_stats(session, feature_batch, label_batch, cost, accuracy):\n",
    "    \"\"\"\n",
    "    Print information about loss and validation accuracy\n",
    "    : session: Current TensorFlow session\n",
    "    : feature_batch: Batch of Numpy image data\n",
    "    : label_batch: Batch of Numpy label data\n",
    "    : cost: TensorFlow cost function\n",
    "    : accuracy: TensorFlow accuracy function\n",
    "    \"\"\"\n",
    "    # TODO: Implement Function\n",
    "    feed_dict_batch = {x: feature_batch, y: label_batch}\n",
    "    acc = session.run(accuracy,feed_dict=feed_dict_batch)\n",
    "    loss = sess.run(cost,feed_dict=feed_dict_batch)\n",
    "    print(\"accuracy: \", acc,\"Loss: \", loss)\n",
    "    pass"
   ]
  },
  {
   "cell_type": "markdown",
   "metadata": {},
   "source": [
    "### Hyperparameters\n",
    "Tune the following parameters:\n",
    "* Set `epochs` to the number of iterations until the network stops learning or start overfitting\n",
    "* Set `batch_size` to the highest number that your machine has memory for.  Most people set them to common sizes of memory:\n",
    " * 64\n",
    " * 128\n",
    " * 256\n",
    " * ...\n",
    "* Set `keep_probability` to the probability of keeping a node using dropout"
   ]
  },
  {
   "cell_type": "code",
   "execution_count": 48,
   "metadata": {
    "collapsed": true
   },
   "outputs": [],
   "source": [
    "# TODO: Tune Parameters\n",
    "epochs = 100\n",
    "batch_size = 128\n",
    "keep_probability = .8"
   ]
  },
  {
   "cell_type": "markdown",
   "metadata": {},
   "source": [
    "### Train on a Single CIFAR-10 Batch\n",
    "Instead of training the neural network on all the CIFAR-10 batches of data, let's use a single batch. This should save time while you iterate on the model to get a better accuracy.  Once the final validation accuracy is 50% or greater, run the model on all the data in the next section."
   ]
  },
  {
   "cell_type": "code",
   "execution_count": 52,
   "metadata": {
    "collapsed": false
   },
   "outputs": [
    {
     "data": {
      "text/plain": [
       "0"
      ]
     },
     "execution_count": 52,
     "metadata": {},
     "output_type": "execute_result"
    }
   ],
   "source": [
    "500% 10\n"
   ]
  },
  {
   "cell_type": "code",
   "execution_count": 53,
   "metadata": {
    "collapsed": false
   },
   "outputs": [
    {
     "name": "stdout",
     "output_type": "stream",
     "text": [
      "Checking the Training on a Single Batch...\n",
      "Epoch  1, CIFAR-10 Batch 1:  accuracy:  0.125 Loss:  3.43109\n",
      "Epoch 11, CIFAR-10 Batch 1:  accuracy:  0.325 Loss:  1.91539\n",
      "Epoch 21, CIFAR-10 Batch 1:  accuracy:  0.5 Loss:  1.67218\n",
      "Epoch 31, CIFAR-10 Batch 1:  accuracy:  0.525 Loss:  1.50125\n",
      "Epoch 41, CIFAR-10 Batch 1:  accuracy:  0.575 Loss:  1.32317\n",
      "Epoch 51, CIFAR-10 Batch 1:  accuracy:  0.65 Loss:  1.13707\n",
      "Epoch 61, CIFAR-10 Batch 1:  accuracy:  0.75 Loss:  0.942809\n",
      "Epoch 71, CIFAR-10 Batch 1:  accuracy:  0.825 Loss:  0.758234\n",
      "Epoch 81, CIFAR-10 Batch 1:  accuracy:  0.825 Loss:  0.624821\n",
      "Epoch 91, CIFAR-10 Batch 1:  accuracy:  0.9 Loss:  0.394341\n"
     ]
    }
   ],
   "source": [
    "\"\"\"\n",
    "DON'T MODIFY ANYTHING IN THIS CELL\n",
    "\"\"\"\n",
    "print('Checking the Training on a Single Batch...')\n",
    "with tf.Session() as sess:\n",
    "    # Initializing the variables\n",
    "    sess.run(tf.initialize_all_variables())\n",
    "    \n",
    "    # Training cycle\n",
    "    for epoch in range(epochs):\n",
    "        batch_i = 1\n",
    "        for batch_features, batch_labels in helper.load_preprocess_training_batch(batch_i, batch_size):\n",
    "            train_neural_network(sess, optimizer, keep_probability, batch_features, batch_labels)\n",
    "        if epoch % 10 == 0:\n",
    "            print('Epoch {:>2}, CIFAR-10 Batch {}:  '.format(epoch + 1, batch_i), end='')\n",
    "            print_stats(sess, batch_features, batch_labels, cost, accuracy)"
   ]
  },
  {
   "cell_type": "markdown",
   "metadata": {},
   "source": [
    "### Fully Train the Model\n",
    "Now that you got a good accuracy with a single CIFAR-10 batch, try it with all five batches."
   ]
  },
  {
   "cell_type": "code",
   "execution_count": 54,
   "metadata": {
    "collapsed": false
   },
   "outputs": [
    {
     "name": "stdout",
     "output_type": "stream",
     "text": [
      "Training...\n",
      "Epoch  1, CIFAR-10 Batch 1:  accuracy:  0.1 Loss:  3.52886\n",
      "Epoch  1, CIFAR-10 Batch 2:  accuracy:  0.2 Loss:  2.41172\n",
      "Epoch  1, CIFAR-10 Batch 3:  accuracy:  0.125 Loss:  2.03467\n",
      "Epoch  1, CIFAR-10 Batch 4:  accuracy:  0.3 Loss:  1.92888\n",
      "Epoch  1, CIFAR-10 Batch 5:  accuracy:  0.3 Loss:  1.95718\n",
      "Epoch  2, CIFAR-10 Batch 1:  accuracy:  0.375 Loss:  2.03586\n",
      "Epoch  2, CIFAR-10 Batch 2:  accuracy:  0.175 Loss:  2.03389\n",
      "Epoch  2, CIFAR-10 Batch 3:  accuracy:  0.3 Loss:  1.81002\n",
      "Epoch  2, CIFAR-10 Batch 4:  accuracy:  0.275 Loss:  1.80525\n",
      "Epoch  2, CIFAR-10 Batch 5:  accuracy:  0.275 Loss:  1.88213\n",
      "Epoch  3, CIFAR-10 Batch 1:  accuracy:  0.375 Loss:  1.92906\n",
      "Epoch  3, CIFAR-10 Batch 2:  accuracy:  0.275 Loss:  1.91646\n",
      "Epoch  3, CIFAR-10 Batch 3:  accuracy:  0.35 Loss:  1.7282\n",
      "Epoch  3, CIFAR-10 Batch 4:  accuracy:  0.25 Loss:  1.7757\n",
      "Epoch  3, CIFAR-10 Batch 5:  accuracy:  0.35 Loss:  1.83167\n",
      "Epoch  4, CIFAR-10 Batch 1:  accuracy:  0.375 Loss:  1.89131\n",
      "Epoch  4, CIFAR-10 Batch 2:  accuracy:  0.325 Loss:  1.86365\n",
      "Epoch  4, CIFAR-10 Batch 3:  accuracy:  0.4 Loss:  1.70398\n",
      "Epoch  4, CIFAR-10 Batch 4:  accuracy:  0.35 Loss:  1.75299\n",
      "Epoch  4, CIFAR-10 Batch 5:  accuracy:  0.375 Loss:  1.77392\n",
      "Epoch  5, CIFAR-10 Batch 1:  accuracy:  0.425 Loss:  1.83958\n",
      "Epoch  5, CIFAR-10 Batch 2:  accuracy:  0.325 Loss:  1.78637\n",
      "Epoch  5, CIFAR-10 Batch 3:  accuracy:  0.425 Loss:  1.59301\n",
      "Epoch  5, CIFAR-10 Batch 4:  accuracy:  0.4 Loss:  1.73318\n",
      "Epoch  5, CIFAR-10 Batch 5:  accuracy:  0.375 Loss:  1.72468\n",
      "Epoch  6, CIFAR-10 Batch 1:  accuracy:  0.5 Loss:  1.76521\n",
      "Epoch  6, CIFAR-10 Batch 2:  accuracy:  0.375 Loss:  1.75407\n",
      "Epoch  6, CIFAR-10 Batch 3:  accuracy:  0.525 Loss:  1.48492\n",
      "Epoch  6, CIFAR-10 Batch 4:  accuracy:  0.35 Loss:  1.65476\n",
      "Epoch  6, CIFAR-10 Batch 5:  accuracy:  0.375 Loss:  1.69781\n",
      "Epoch  7, CIFAR-10 Batch 1:  accuracy:  0.475 Loss:  1.70985\n",
      "Epoch  7, CIFAR-10 Batch 2:  accuracy:  0.4 Loss:  1.68078\n",
      "Epoch  7, CIFAR-10 Batch 3:  accuracy:  0.5 Loss:  1.4023\n",
      "Epoch  7, CIFAR-10 Batch 4:  accuracy:  0.375 Loss:  1.56998\n",
      "Epoch  7, CIFAR-10 Batch 5:  accuracy:  0.4 Loss:  1.68626\n",
      "Epoch  8, CIFAR-10 Batch 1:  accuracy:  0.475 Loss:  1.66705\n",
      "Epoch  8, CIFAR-10 Batch 2:  accuracy:  0.375 Loss:  1.63379\n",
      "Epoch  8, CIFAR-10 Batch 3:  accuracy:  0.5 Loss:  1.3386\n",
      "Epoch  8, CIFAR-10 Batch 4:  accuracy:  0.425 Loss:  1.52258\n",
      "Epoch  8, CIFAR-10 Batch 5:  accuracy:  0.4 Loss:  1.60323\n",
      "Epoch  9, CIFAR-10 Batch 1:  accuracy:  0.55 Loss:  1.58792\n",
      "Epoch  9, CIFAR-10 Batch 2:  accuracy:  0.375 Loss:  1.57645\n",
      "Epoch  9, CIFAR-10 Batch 3:  accuracy:  0.525 Loss:  1.27532\n",
      "Epoch  9, CIFAR-10 Batch 4:  accuracy:  0.45 Loss:  1.45454\n",
      "Epoch  9, CIFAR-10 Batch 5:  accuracy:  0.425 Loss:  1.55411\n",
      "Epoch 10, CIFAR-10 Batch 1:  accuracy:  0.525 Loss:  1.55817\n",
      "Epoch 10, CIFAR-10 Batch 2:  accuracy:  0.4 Loss:  1.52976\n",
      "Epoch 10, CIFAR-10 Batch 3:  accuracy:  0.6 Loss:  1.20191\n",
      "Epoch 10, CIFAR-10 Batch 4:  accuracy:  0.5 Loss:  1.39466\n",
      "Epoch 10, CIFAR-10 Batch 5:  accuracy:  0.45 Loss:  1.52274\n",
      "Epoch 11, CIFAR-10 Batch 1:  accuracy:  0.5 Loss:  1.50718\n",
      "Epoch 11, CIFAR-10 Batch 2:  accuracy:  0.4 Loss:  1.46376\n",
      "Epoch 11, CIFAR-10 Batch 3:  accuracy:  0.625 Loss:  1.15314\n",
      "Epoch 11, CIFAR-10 Batch 4:  accuracy:  0.55 Loss:  1.35131\n",
      "Epoch 11, CIFAR-10 Batch 5:  accuracy:  0.45 Loss:  1.49534\n",
      "Epoch 12, CIFAR-10 Batch 1:  accuracy:  0.65 Loss:  1.46586\n",
      "Epoch 12, CIFAR-10 Batch 2:  accuracy:  0.45 Loss:  1.42211\n",
      "Epoch 12, CIFAR-10 Batch 3:  accuracy:  0.625 Loss:  1.09831\n",
      "Epoch 12, CIFAR-10 Batch 4:  accuracy:  0.6 Loss:  1.33255\n",
      "Epoch 12, CIFAR-10 Batch 5:  accuracy:  0.45 Loss:  1.45082\n",
      "Epoch 13, CIFAR-10 Batch 1:  accuracy:  0.65 Loss:  1.43963\n",
      "Epoch 13, CIFAR-10 Batch 2:  accuracy:  0.5 Loss:  1.37082\n",
      "Epoch 13, CIFAR-10 Batch 3:  accuracy:  0.625 Loss:  1.06441\n",
      "Epoch 13, CIFAR-10 Batch 4:  accuracy:  0.55 Loss:  1.30299\n",
      "Epoch 13, CIFAR-10 Batch 5:  accuracy:  0.5 Loss:  1.4211\n",
      "Epoch 14, CIFAR-10 Batch 1:  accuracy:  0.6 Loss:  1.41234\n",
      "Epoch 14, CIFAR-10 Batch 2:  accuracy:  0.45 Loss:  1.33288\n",
      "Epoch 14, CIFAR-10 Batch 3:  accuracy:  0.6 Loss:  1.02819\n",
      "Epoch 14, CIFAR-10 Batch 4:  accuracy:  0.55 Loss:  1.26124\n",
      "Epoch 14, CIFAR-10 Batch 5:  accuracy:  0.525 Loss:  1.38738\n",
      "Epoch 15, CIFAR-10 Batch 1:  accuracy:  0.6 Loss:  1.39966\n",
      "Epoch 15, CIFAR-10 Batch 2:  accuracy:  0.5 Loss:  1.30242\n",
      "Epoch 15, CIFAR-10 Batch 3:  accuracy:  0.625 Loss:  1.00191\n",
      "Epoch 15, CIFAR-10 Batch 4:  accuracy:  0.65 Loss:  1.23342\n",
      "Epoch 15, CIFAR-10 Batch 5:  accuracy:  0.55 Loss:  1.35845\n",
      "Epoch 16, CIFAR-10 Batch 1:  accuracy:  0.575 Loss:  1.3958\n",
      "Epoch 16, CIFAR-10 Batch 2:  accuracy:  0.525 Loss:  1.28132\n",
      "Epoch 16, CIFAR-10 Batch 3:  accuracy:  0.65 Loss:  0.981734\n",
      "Epoch 16, CIFAR-10 Batch 4:  accuracy:  0.675 Loss:  1.18969\n",
      "Epoch 16, CIFAR-10 Batch 5:  accuracy:  0.525 Loss:  1.30556\n",
      "Epoch 17, CIFAR-10 Batch 1:  accuracy:  0.625 Loss:  1.31954\n",
      "Epoch 17, CIFAR-10 Batch 2:  accuracy:  0.55 Loss:  1.22145\n",
      "Epoch 17, CIFAR-10 Batch 3:  accuracy:  0.675 Loss:  0.962128\n",
      "Epoch 17, CIFAR-10 Batch 4:  accuracy:  0.7 Loss:  1.15969\n",
      "Epoch 17, CIFAR-10 Batch 5:  accuracy:  0.6 Loss:  1.2562\n",
      "Epoch 18, CIFAR-10 Batch 1:  accuracy:  0.625 Loss:  1.27338\n",
      "Epoch 18, CIFAR-10 Batch 2:  accuracy:  0.525 Loss:  1.17843\n",
      "Epoch 18, CIFAR-10 Batch 3:  accuracy:  0.675 Loss:  0.940086\n",
      "Epoch 18, CIFAR-10 Batch 4:  accuracy:  0.725 Loss:  1.14961\n",
      "Epoch 18, CIFAR-10 Batch 5:  accuracy:  0.625 Loss:  1.20715\n",
      "Epoch 19, CIFAR-10 Batch 1:  accuracy:  0.675 Loss:  1.24528\n",
      "Epoch 19, CIFAR-10 Batch 2:  accuracy:  0.575 Loss:  1.15096\n",
      "Epoch 19, CIFAR-10 Batch 3:  accuracy:  0.675 Loss:  0.91884\n",
      "Epoch 19, CIFAR-10 Batch 4:  accuracy:  0.725 Loss:  1.11575\n",
      "Epoch 19, CIFAR-10 Batch 5:  accuracy:  0.625 Loss:  1.16325\n",
      "Epoch 20, CIFAR-10 Batch 1:  accuracy:  0.7 Loss:  1.22275\n",
      "Epoch 20, CIFAR-10 Batch 2:  accuracy:  0.575 Loss:  1.13916\n",
      "Epoch 20, CIFAR-10 Batch 3:  accuracy:  0.675 Loss:  0.896282\n",
      "Epoch 20, CIFAR-10 Batch 4:  accuracy:  0.75 Loss:  1.07858\n",
      "Epoch 20, CIFAR-10 Batch 5:  accuracy:  0.675 Loss:  1.12609\n",
      "Epoch 21, CIFAR-10 Batch 1:  accuracy:  0.7 Loss:  1.17422\n",
      "Epoch 21, CIFAR-10 Batch 2:  accuracy:  0.6 Loss:  1.10246\n",
      "Epoch 21, CIFAR-10 Batch 3:  accuracy:  0.65 Loss:  0.867968\n",
      "Epoch 21, CIFAR-10 Batch 4:  accuracy:  0.75 Loss:  1.06273\n",
      "Epoch 21, CIFAR-10 Batch 5:  accuracy:  0.65 Loss:  1.09913\n",
      "Epoch 22, CIFAR-10 Batch 1:  accuracy:  0.675 Loss:  1.15316\n",
      "Epoch 22, CIFAR-10 Batch 2:  accuracy:  0.625 Loss:  1.0687\n",
      "Epoch 22, CIFAR-10 Batch 3:  accuracy:  0.7 Loss:  0.84939\n",
      "Epoch 22, CIFAR-10 Batch 4:  accuracy:  0.75 Loss:  1.04888\n",
      "Epoch 22, CIFAR-10 Batch 5:  accuracy:  0.675 Loss:  1.07411\n",
      "Epoch 23, CIFAR-10 Batch 1:  accuracy:  0.7 Loss:  1.1183\n",
      "Epoch 23, CIFAR-10 Batch 2:  accuracy:  0.625 Loss:  1.03893\n",
      "Epoch 23, CIFAR-10 Batch 3:  accuracy:  0.7 Loss:  0.821661\n",
      "Epoch 23, CIFAR-10 Batch 4:  accuracy:  0.725 Loss:  1.03414\n",
      "Epoch 23, CIFAR-10 Batch 5:  accuracy:  0.675 Loss:  1.04719\n",
      "Epoch 24, CIFAR-10 Batch 1:  accuracy:  0.7 Loss:  1.0784\n",
      "Epoch 24, CIFAR-10 Batch 2:  accuracy:  0.625 Loss:  1.01693\n",
      "Epoch 24, CIFAR-10 Batch 3:  accuracy:  0.7 Loss:  0.798472\n",
      "Epoch 24, CIFAR-10 Batch 4:  accuracy:  0.75 Loss:  1.00108\n",
      "Epoch 24, CIFAR-10 Batch 5:  accuracy:  0.7 Loss:  1.0201\n",
      "Epoch 25, CIFAR-10 Batch 1:  accuracy:  0.7 Loss:  1.04955\n",
      "Epoch 25, CIFAR-10 Batch 2:  accuracy:  0.65 Loss:  0.991133\n",
      "Epoch 25, CIFAR-10 Batch 3:  accuracy:  0.75 Loss:  0.779391\n",
      "Epoch 25, CIFAR-10 Batch 4:  accuracy:  0.725 Loss:  0.987872\n",
      "Epoch 25, CIFAR-10 Batch 5:  accuracy:  0.7 Loss:  0.995261\n",
      "Epoch 26, CIFAR-10 Batch 1:  accuracy:  0.725 Loss:  1.02511\n",
      "Epoch 26, CIFAR-10 Batch 2:  accuracy:  0.65 Loss:  0.976857\n",
      "Epoch 26, CIFAR-10 Batch 3:  accuracy:  0.775 Loss:  0.760213\n",
      "Epoch 26, CIFAR-10 Batch 4:  accuracy:  0.75 Loss:  0.96657\n",
      "Epoch 26, CIFAR-10 Batch 5:  accuracy:  0.7 Loss:  0.977006\n",
      "Epoch 27, CIFAR-10 Batch 1:  accuracy:  0.725 Loss:  1.03055\n",
      "Epoch 27, CIFAR-10 Batch 2:  accuracy:  0.65 Loss:  0.93991\n",
      "Epoch 27, CIFAR-10 Batch 3:  accuracy:  0.775 Loss:  0.743386\n",
      "Epoch 27, CIFAR-10 Batch 4:  accuracy:  0.75 Loss:  0.956292\n",
      "Epoch 27, CIFAR-10 Batch 5:  accuracy:  0.725 Loss:  0.942598\n",
      "Epoch 28, CIFAR-10 Batch 1:  accuracy:  0.675 Loss:  1.03569\n",
      "Epoch 28, CIFAR-10 Batch 2:  accuracy:  0.65 Loss:  0.908975\n",
      "Epoch 28, CIFAR-10 Batch 3:  accuracy:  0.8 Loss:  0.724038\n",
      "Epoch 28, CIFAR-10 Batch 4:  accuracy:  0.75 Loss:  0.935115\n",
      "Epoch 28, CIFAR-10 Batch 5:  accuracy:  0.7 Loss:  0.929082\n",
      "Epoch 29, CIFAR-10 Batch 1:  accuracy:  0.7 Loss:  1.02276\n",
      "Epoch 29, CIFAR-10 Batch 2:  accuracy:  0.7 Loss:  0.890702\n",
      "Epoch 29, CIFAR-10 Batch 3:  accuracy:  0.8 Loss:  0.703399\n",
      "Epoch 29, CIFAR-10 Batch 4:  accuracy:  0.75 Loss:  0.91536\n",
      "Epoch 29, CIFAR-10 Batch 5:  accuracy:  0.7 Loss:  0.918821\n",
      "Epoch 30, CIFAR-10 Batch 1:  accuracy:  0.7 Loss:  1.0267\n",
      "Epoch 30, CIFAR-10 Batch 2:  accuracy:  0.725 Loss:  0.856827\n",
      "Epoch 30, CIFAR-10 Batch 3:  accuracy:  0.8 Loss:  0.690836\n",
      "Epoch 30, CIFAR-10 Batch 4:  accuracy:  0.75 Loss:  0.873031\n",
      "Epoch 30, CIFAR-10 Batch 5:  accuracy:  0.7 Loss:  0.892592\n",
      "Epoch 31, CIFAR-10 Batch 1:  accuracy:  0.725 Loss:  0.992737\n",
      "Epoch 31, CIFAR-10 Batch 2:  accuracy:  0.725 Loss:  0.836536\n",
      "Epoch 31, CIFAR-10 Batch 3:  accuracy:  0.775 Loss:  0.681298\n",
      "Epoch 31, CIFAR-10 Batch 4:  accuracy:  0.75 Loss:  0.867226\n",
      "Epoch 31, CIFAR-10 Batch 5:  accuracy:  0.775 Loss:  0.864845\n",
      "Epoch 32, CIFAR-10 Batch 1:  accuracy:  0.675 Loss:  1.00606\n",
      "Epoch 32, CIFAR-10 Batch 2:  accuracy:  0.725 Loss:  0.804477\n",
      "Epoch 32, CIFAR-10 Batch 3:  accuracy:  0.775 Loss:  0.704119\n",
      "Epoch 32, CIFAR-10 Batch 4:  accuracy:  0.75 Loss:  0.828772\n",
      "Epoch 32, CIFAR-10 Batch 5:  accuracy:  0.75 Loss:  0.833008\n",
      "Epoch 33, CIFAR-10 Batch 1:  accuracy:  0.7 Loss:  0.987261\n",
      "Epoch 33, CIFAR-10 Batch 2:  accuracy:  0.725 Loss:  0.783413\n",
      "Epoch 33, CIFAR-10 Batch 3:  accuracy:  0.8 Loss:  0.688297\n",
      "Epoch 33, CIFAR-10 Batch 4:  accuracy:  0.8 Loss:  0.787854\n",
      "Epoch 33, CIFAR-10 Batch 5:  accuracy:  0.8 Loss:  0.812769\n",
      "Epoch 34, CIFAR-10 Batch 1:  accuracy:  0.7 Loss:  0.946157\n",
      "Epoch 34, CIFAR-10 Batch 2:  accuracy:  0.725 Loss:  0.759986\n",
      "Epoch 34, CIFAR-10 Batch 3:  accuracy:  0.825 Loss:  0.668209\n",
      "Epoch 34, CIFAR-10 Batch 4:  accuracy:  0.8 Loss:  0.77488\n",
      "Epoch 34, CIFAR-10 Batch 5:  accuracy:  0.775 Loss:  0.802162\n",
      "Epoch 35, CIFAR-10 Batch 1:  accuracy:  0.7 Loss:  0.938745\n",
      "Epoch 35, CIFAR-10 Batch 2:  accuracy:  0.7 Loss:  0.75469\n",
      "Epoch 35, CIFAR-10 Batch 3:  accuracy:  0.825 Loss:  0.656234\n",
      "Epoch 35, CIFAR-10 Batch 4:  accuracy:  0.85 Loss:  0.765307\n",
      "Epoch 35, CIFAR-10 Batch 5:  accuracy:  0.775 Loss:  0.796651\n",
      "Epoch 36, CIFAR-10 Batch 1:  accuracy:  0.725 Loss:  0.931933\n",
      "Epoch 36, CIFAR-10 Batch 2:  accuracy:  0.7 Loss:  0.737985\n",
      "Epoch 36, CIFAR-10 Batch 3:  accuracy:  0.825 Loss:  0.624848\n",
      "Epoch 36, CIFAR-10 Batch 4:  accuracy:  0.85 Loss:  0.745619\n",
      "Epoch 36, CIFAR-10 Batch 5:  accuracy:  0.775 Loss:  0.78836\n",
      "Epoch 37, CIFAR-10 Batch 1:  accuracy:  0.675 Loss:  0.937233\n",
      "Epoch 37, CIFAR-10 Batch 2:  accuracy:  0.7 Loss:  0.727149\n",
      "Epoch 37, CIFAR-10 Batch 3:  accuracy:  0.825 Loss:  0.607214\n",
      "Epoch 37, CIFAR-10 Batch 4:  accuracy:  0.85 Loss:  0.732798\n",
      "Epoch 37, CIFAR-10 Batch 5:  accuracy:  0.775 Loss:  0.772851\n",
      "Epoch 38, CIFAR-10 Batch 1:  accuracy:  0.725 Loss:  0.929916\n",
      "Epoch 38, CIFAR-10 Batch 2:  accuracy:  0.7 Loss:  0.706704\n",
      "Epoch 38, CIFAR-10 Batch 3:  accuracy:  0.825 Loss:  0.588943\n",
      "Epoch 38, CIFAR-10 Batch 4:  accuracy:  0.875 Loss:  0.711394\n",
      "Epoch 38, CIFAR-10 Batch 5:  accuracy:  0.775 Loss:  0.752945\n",
      "Epoch 39, CIFAR-10 Batch 1:  accuracy:  0.75 Loss:  0.925204\n",
      "Epoch 39, CIFAR-10 Batch 2:  accuracy:  0.725 Loss:  0.678372\n",
      "Epoch 39, CIFAR-10 Batch 3:  accuracy:  0.825 Loss:  0.570957\n",
      "Epoch 39, CIFAR-10 Batch 4:  accuracy:  0.875 Loss:  0.701502\n",
      "Epoch 39, CIFAR-10 Batch 5:  accuracy:  0.775 Loss:  0.726161\n",
      "Epoch 40, CIFAR-10 Batch 1:  accuracy:  0.75 Loss:  0.908131\n",
      "Epoch 40, CIFAR-10 Batch 2:  accuracy:  0.725 Loss:  0.661933\n",
      "Epoch 40, CIFAR-10 Batch 3:  accuracy:  0.825 Loss:  0.555372\n",
      "Epoch 40, CIFAR-10 Batch 4:  accuracy:  0.875 Loss:  0.689497\n",
      "Epoch 40, CIFAR-10 Batch 5:  accuracy:  0.8 Loss:  0.722377\n",
      "Epoch 41, CIFAR-10 Batch 1:  accuracy:  0.7 Loss:  0.963173\n",
      "Epoch 41, CIFAR-10 Batch 2:  accuracy:  0.75 Loss:  0.656344\n",
      "Epoch 41, CIFAR-10 Batch 3:  accuracy:  0.85 Loss:  0.548997\n",
      "Epoch 41, CIFAR-10 Batch 4:  accuracy:  0.85 Loss:  0.696348\n",
      "Epoch 41, CIFAR-10 Batch 5:  accuracy:  0.75 Loss:  0.725269\n",
      "Epoch 42, CIFAR-10 Batch 1:  accuracy:  0.7 Loss:  0.943861\n",
      "Epoch 42, CIFAR-10 Batch 2:  accuracy:  0.75 Loss:  0.655127\n",
      "Epoch 42, CIFAR-10 Batch 3:  accuracy:  0.85 Loss:  0.542813\n",
      "Epoch 42, CIFAR-10 Batch 4:  accuracy:  0.825 Loss:  0.718115\n",
      "Epoch 42, CIFAR-10 Batch 5:  accuracy:  0.775 Loss:  0.691231\n",
      "Epoch 43, CIFAR-10 Batch 1:  accuracy:  0.725 Loss:  0.933392\n",
      "Epoch 43, CIFAR-10 Batch 2:  accuracy:  0.75 Loss:  0.642568\n",
      "Epoch 43, CIFAR-10 Batch 3:  accuracy:  0.85 Loss:  0.530146\n",
      "Epoch 43, CIFAR-10 Batch 4:  accuracy:  0.8 Loss:  0.724486\n",
      "Epoch 43, CIFAR-10 Batch 5:  accuracy:  0.775 Loss:  0.65422\n",
      "Epoch 44, CIFAR-10 Batch 1:  accuracy:  0.75 Loss:  0.906833\n",
      "Epoch 44, CIFAR-10 Batch 2:  accuracy:  0.775 Loss:  0.632088\n",
      "Epoch 44, CIFAR-10 Batch 3:  accuracy:  0.85 Loss:  0.519747\n",
      "Epoch 44, CIFAR-10 Batch 4:  accuracy:  0.825 Loss:  0.679974\n",
      "Epoch 44, CIFAR-10 Batch 5:  accuracy:  0.75 Loss:  0.629499\n",
      "Epoch 45, CIFAR-10 Batch 1:  accuracy:  0.75 Loss:  0.874419\n",
      "Epoch 45, CIFAR-10 Batch 2:  accuracy:  0.825 Loss:  0.621691\n",
      "Epoch 45, CIFAR-10 Batch 3:  accuracy:  0.85 Loss:  0.521136\n",
      "Epoch 45, CIFAR-10 Batch 4:  accuracy:  0.825 Loss:  0.665027\n",
      "Epoch 45, CIFAR-10 Batch 5:  accuracy:  0.775 Loss:  0.610155\n",
      "Epoch 46, CIFAR-10 Batch 1:  accuracy:  0.75 Loss:  0.859249\n",
      "Epoch 46, CIFAR-10 Batch 2:  accuracy:  0.825 Loss:  0.609041\n",
      "Epoch 46, CIFAR-10 Batch 3:  accuracy:  0.85 Loss:  0.502274\n",
      "Epoch 46, CIFAR-10 Batch 4:  accuracy:  0.825 Loss:  0.647695\n",
      "Epoch 46, CIFAR-10 Batch 5:  accuracy:  0.75 Loss:  0.597408\n",
      "Epoch 47, CIFAR-10 Batch 1:  accuracy:  0.75 Loss:  0.843963\n",
      "Epoch 47, CIFAR-10 Batch 2:  accuracy:  0.85 Loss:  0.582585\n",
      "Epoch 47, CIFAR-10 Batch 3:  accuracy:  0.875 Loss:  0.488878\n",
      "Epoch 47, CIFAR-10 Batch 4:  accuracy:  0.825 Loss:  0.623544\n",
      "Epoch 47, CIFAR-10 Batch 5:  accuracy:  0.775 Loss:  0.577493\n",
      "Epoch 48, CIFAR-10 Batch 1:  accuracy:  0.75 Loss:  0.831402\n",
      "Epoch 48, CIFAR-10 Batch 2:  accuracy:  0.85 Loss:  0.561701\n",
      "Epoch 48, CIFAR-10 Batch 3:  accuracy:  0.875 Loss:  0.473224\n",
      "Epoch 48, CIFAR-10 Batch 4:  accuracy:  0.8 Loss:  0.608217\n",
      "Epoch 48, CIFAR-10 Batch 5:  accuracy:  0.825 Loss:  0.563721\n",
      "Epoch 49, CIFAR-10 Batch 1:  accuracy:  0.75 Loss:  0.833578\n",
      "Epoch 49, CIFAR-10 Batch 2:  accuracy:  0.825 Loss:  0.547256\n",
      "Epoch 49, CIFAR-10 Batch 3:  accuracy:  0.875 Loss:  0.467487\n",
      "Epoch 49, CIFAR-10 Batch 4:  accuracy:  0.875 Loss:  0.592544\n",
      "Epoch 49, CIFAR-10 Batch 5:  accuracy:  0.825 Loss:  0.549987\n",
      "Epoch 50, CIFAR-10 Batch 1:  accuracy:  0.7 Loss:  0.821599\n",
      "Epoch 50, CIFAR-10 Batch 2:  accuracy:  0.825 Loss:  0.525421\n",
      "Epoch 50, CIFAR-10 Batch 3:  accuracy:  0.825 Loss:  0.461316\n",
      "Epoch 50, CIFAR-10 Batch 4:  accuracy:  0.875 Loss:  0.577096\n",
      "Epoch 50, CIFAR-10 Batch 5:  accuracy:  0.875 Loss:  0.538925\n",
      "Epoch 51, CIFAR-10 Batch 1:  accuracy:  0.7 Loss:  0.805947\n",
      "Epoch 51, CIFAR-10 Batch 2:  accuracy:  0.8 Loss:  0.516841\n",
      "Epoch 51, CIFAR-10 Batch 3:  accuracy:  0.825 Loss:  0.460452\n",
      "Epoch 51, CIFAR-10 Batch 4:  accuracy:  0.875 Loss:  0.582322\n",
      "Epoch 51, CIFAR-10 Batch 5:  accuracy:  0.875 Loss:  0.518721\n",
      "Epoch 52, CIFAR-10 Batch 1:  accuracy:  0.725 Loss:  0.81132\n",
      "Epoch 52, CIFAR-10 Batch 2:  accuracy:  0.8 Loss:  0.495253\n",
      "Epoch 52, CIFAR-10 Batch 3:  accuracy:  0.875 Loss:  0.45496\n",
      "Epoch 52, CIFAR-10 Batch 4:  accuracy:  0.8 Loss:  0.604488\n",
      "Epoch 52, CIFAR-10 Batch 5:  accuracy:  0.85 Loss:  0.49953\n",
      "Epoch 53, CIFAR-10 Batch 1:  accuracy:  0.75 Loss:  0.808409\n",
      "Epoch 53, CIFAR-10 Batch 2:  accuracy:  0.8 Loss:  0.486369\n",
      "Epoch 53, CIFAR-10 Batch 3:  accuracy:  0.85 Loss:  0.449695\n",
      "Epoch 53, CIFAR-10 Batch 4:  accuracy:  0.825 Loss:  0.624341\n",
      "Epoch 53, CIFAR-10 Batch 5:  accuracy:  0.85 Loss:  0.494161\n",
      "Epoch 54, CIFAR-10 Batch 1:  accuracy:  0.775 Loss:  0.792721\n",
      "Epoch 54, CIFAR-10 Batch 2:  accuracy:  0.8 Loss:  0.479694\n",
      "Epoch 54, CIFAR-10 Batch 3:  accuracy:  0.825 Loss:  0.439737\n",
      "Epoch 54, CIFAR-10 Batch 4:  accuracy:  0.85 Loss:  0.606328\n",
      "Epoch 54, CIFAR-10 Batch 5:  accuracy:  0.825 Loss:  0.485379\n",
      "Epoch 55, CIFAR-10 Batch 1:  accuracy:  0.775 Loss:  0.776859\n",
      "Epoch 55, CIFAR-10 Batch 2:  accuracy:  0.825 Loss:  0.482672\n",
      "Epoch 55, CIFAR-10 Batch 3:  accuracy:  0.875 Loss:  0.416112\n",
      "Epoch 55, CIFAR-10 Batch 4:  accuracy:  0.85 Loss:  0.594197\n",
      "Epoch 55, CIFAR-10 Batch 5:  accuracy:  0.875 Loss:  0.460549\n",
      "Epoch 56, CIFAR-10 Batch 1:  accuracy:  0.775 Loss:  0.765583\n",
      "Epoch 56, CIFAR-10 Batch 2:  accuracy:  0.825 Loss:  0.472684\n",
      "Epoch 56, CIFAR-10 Batch 3:  accuracy:  0.9 Loss:  0.406165\n",
      "Epoch 56, CIFAR-10 Batch 4:  accuracy:  0.9 Loss:  0.575393\n",
      "Epoch 56, CIFAR-10 Batch 5:  accuracy:  0.85 Loss:  0.45501\n",
      "Epoch 57, CIFAR-10 Batch 1:  accuracy:  0.775 Loss:  0.747408\n",
      "Epoch 57, CIFAR-10 Batch 2:  accuracy:  0.825 Loss:  0.464886\n",
      "Epoch 57, CIFAR-10 Batch 3:  accuracy:  0.9 Loss:  0.397969\n",
      "Epoch 57, CIFAR-10 Batch 4:  accuracy:  0.875 Loss:  0.556706\n",
      "Epoch 57, CIFAR-10 Batch 5:  accuracy:  0.9 Loss:  0.437937\n",
      "Epoch 58, CIFAR-10 Batch 1:  accuracy:  0.775 Loss:  0.734705\n",
      "Epoch 58, CIFAR-10 Batch 2:  accuracy:  0.825 Loss:  0.458624\n",
      "Epoch 58, CIFAR-10 Batch 3:  accuracy:  0.9 Loss:  0.391526\n",
      "Epoch 58, CIFAR-10 Batch 4:  accuracy:  0.875 Loss:  0.538308\n",
      "Epoch 58, CIFAR-10 Batch 5:  accuracy:  0.9 Loss:  0.432288\n",
      "Epoch 59, CIFAR-10 Batch 1:  accuracy:  0.775 Loss:  0.720541\n",
      "Epoch 59, CIFAR-10 Batch 2:  accuracy:  0.825 Loss:  0.449926\n",
      "Epoch 59, CIFAR-10 Batch 3:  accuracy:  0.9 Loss:  0.385587\n",
      "Epoch 59, CIFAR-10 Batch 4:  accuracy:  0.9 Loss:  0.511927\n",
      "Epoch 59, CIFAR-10 Batch 5:  accuracy:  0.925 Loss:  0.423587\n",
      "Epoch 60, CIFAR-10 Batch 1:  accuracy:  0.775 Loss:  0.704328\n",
      "Epoch 60, CIFAR-10 Batch 2:  accuracy:  0.825 Loss:  0.439508\n",
      "Epoch 60, CIFAR-10 Batch 3:  accuracy:  0.875 Loss:  0.380783\n",
      "Epoch 60, CIFAR-10 Batch 4:  accuracy:  0.9 Loss:  0.491437\n",
      "Epoch 60, CIFAR-10 Batch 5:  accuracy:  0.9 Loss:  0.427754\n",
      "Epoch 61, CIFAR-10 Batch 1:  accuracy:  0.775 Loss:  0.695669\n",
      "Epoch 61, CIFAR-10 Batch 2:  accuracy:  0.825 Loss:  0.429684\n",
      "Epoch 61, CIFAR-10 Batch 3:  accuracy:  0.9 Loss:  0.374152\n",
      "Epoch 61, CIFAR-10 Batch 4:  accuracy:  0.9 Loss:  0.478855\n",
      "Epoch 61, CIFAR-10 Batch 5:  accuracy:  0.875 Loss:  0.420914\n",
      "Epoch 62, CIFAR-10 Batch 1:  accuracy:  0.775 Loss:  0.681622\n",
      "Epoch 62, CIFAR-10 Batch 2:  accuracy:  0.85 Loss:  0.405911\n",
      "Epoch 62, CIFAR-10 Batch 3:  accuracy:  0.9 Loss:  0.371021\n",
      "Epoch 62, CIFAR-10 Batch 4:  accuracy:  0.925 Loss:  0.461932\n",
      "Epoch 62, CIFAR-10 Batch 5:  accuracy:  0.875 Loss:  0.421214\n",
      "Epoch 63, CIFAR-10 Batch 1:  accuracy:  0.775 Loss:  0.66963\n",
      "Epoch 63, CIFAR-10 Batch 2:  accuracy:  0.85 Loss:  0.393406\n",
      "Epoch 63, CIFAR-10 Batch 3:  accuracy:  0.9 Loss:  0.371393\n",
      "Epoch 63, CIFAR-10 Batch 4:  accuracy:  0.9 Loss:  0.46415\n",
      "Epoch 63, CIFAR-10 Batch 5:  accuracy:  0.9 Loss:  0.396189\n",
      "Epoch 64, CIFAR-10 Batch 1:  accuracy:  0.775 Loss:  0.668538\n",
      "Epoch 64, CIFAR-10 Batch 2:  accuracy:  0.85 Loss:  0.389351\n",
      "Epoch 64, CIFAR-10 Batch 3:  accuracy:  0.9 Loss:  0.362691\n",
      "Epoch 64, CIFAR-10 Batch 4:  accuracy:  0.9 Loss:  0.457659\n",
      "Epoch 64, CIFAR-10 Batch 5:  accuracy:  0.925 Loss:  0.396176\n",
      "Epoch 65, CIFAR-10 Batch 1:  accuracy:  0.775 Loss:  0.676575\n",
      "Epoch 65, CIFAR-10 Batch 2:  accuracy:  0.825 Loss:  0.393912\n",
      "Epoch 65, CIFAR-10 Batch 3:  accuracy:  0.9 Loss:  0.349706\n",
      "Epoch 65, CIFAR-10 Batch 4:  accuracy:  0.875 Loss:  0.454561\n",
      "Epoch 65, CIFAR-10 Batch 5:  accuracy:  0.925 Loss:  0.397145\n",
      "Epoch 66, CIFAR-10 Batch 1:  accuracy:  0.775 Loss:  0.657978\n",
      "Epoch 66, CIFAR-10 Batch 2:  accuracy:  0.85 Loss:  0.392267\n",
      "Epoch 66, CIFAR-10 Batch 3:  accuracy:  0.9 Loss:  0.338416\n",
      "Epoch 66, CIFAR-10 Batch 4:  accuracy:  0.85 Loss:  0.465512\n",
      "Epoch 66, CIFAR-10 Batch 5:  accuracy:  0.9 Loss:  0.395675\n",
      "Epoch 67, CIFAR-10 Batch 1:  accuracy:  0.8 Loss:  0.606611\n",
      "Epoch 67, CIFAR-10 Batch 2:  accuracy:  0.85 Loss:  0.385272\n",
      "Epoch 67, CIFAR-10 Batch 3:  accuracy:  0.9 Loss:  0.328792\n",
      "Epoch 67, CIFAR-10 Batch 4:  accuracy:  0.85 Loss:  0.423448\n",
      "Epoch 67, CIFAR-10 Batch 5:  accuracy:  0.925 Loss:  0.386412\n",
      "Epoch 68, CIFAR-10 Batch 1:  accuracy:  0.8 Loss:  0.601516\n",
      "Epoch 68, CIFAR-10 Batch 2:  accuracy:  0.875 Loss:  0.398134\n",
      "Epoch 68, CIFAR-10 Batch 3:  accuracy:  0.85 Loss:  0.346344\n",
      "Epoch 68, CIFAR-10 Batch 4:  accuracy:  0.925 Loss:  0.403821\n",
      "Epoch 68, CIFAR-10 Batch 5:  accuracy:  0.925 Loss:  0.375383\n",
      "Epoch 69, CIFAR-10 Batch 1:  accuracy:  0.8 Loss:  0.585971\n",
      "Epoch 69, CIFAR-10 Batch 2:  accuracy:  0.825 Loss:  0.411933\n",
      "Epoch 69, CIFAR-10 Batch 3:  accuracy:  0.875 Loss:  0.337437\n",
      "Epoch 69, CIFAR-10 Batch 4:  accuracy:  0.875 Loss:  0.401163\n",
      "Epoch 69, CIFAR-10 Batch 5:  accuracy:  0.925 Loss:  0.368507\n",
      "Epoch 70, CIFAR-10 Batch 1:  accuracy:  0.775 Loss:  0.581429\n",
      "Epoch 70, CIFAR-10 Batch 2:  accuracy:  0.8 Loss:  0.407373\n",
      "Epoch 70, CIFAR-10 Batch 3:  accuracy:  0.9 Loss:  0.331572\n",
      "Epoch 70, CIFAR-10 Batch 4:  accuracy:  0.9 Loss:  0.40007\n",
      "Epoch 70, CIFAR-10 Batch 5:  accuracy:  0.95 Loss:  0.361094\n",
      "Epoch 71, CIFAR-10 Batch 1:  accuracy:  0.775 Loss:  0.570999\n",
      "Epoch 71, CIFAR-10 Batch 2:  accuracy:  0.8 Loss:  0.407688\n",
      "Epoch 71, CIFAR-10 Batch 3:  accuracy:  0.875 Loss:  0.327095\n",
      "Epoch 71, CIFAR-10 Batch 4:  accuracy:  0.95 Loss:  0.386224\n",
      "Epoch 71, CIFAR-10 Batch 5:  accuracy:  0.95 Loss:  0.351875\n",
      "Epoch 72, CIFAR-10 Batch 1:  accuracy:  0.775 Loss:  0.562855\n",
      "Epoch 72, CIFAR-10 Batch 2:  accuracy:  0.8 Loss:  0.398394\n",
      "Epoch 72, CIFAR-10 Batch 3:  accuracy:  0.9 Loss:  0.32588\n",
      "Epoch 72, CIFAR-10 Batch 4:  accuracy:  0.925 Loss:  0.374326\n",
      "Epoch 72, CIFAR-10 Batch 5:  accuracy:  0.95 Loss:  0.349149\n",
      "Epoch 73, CIFAR-10 Batch 1:  accuracy:  0.775 Loss:  0.557467\n",
      "Epoch 73, CIFAR-10 Batch 2:  accuracy:  0.8 Loss:  0.394962\n",
      "Epoch 73, CIFAR-10 Batch 3:  accuracy:  0.875 Loss:  0.313352\n",
      "Epoch 73, CIFAR-10 Batch 4:  accuracy:  0.925 Loss:  0.366656\n",
      "Epoch 73, CIFAR-10 Batch 5:  accuracy:  0.95 Loss:  0.344145\n",
      "Epoch 74, CIFAR-10 Batch 1:  accuracy:  0.775 Loss:  0.551645\n",
      "Epoch 74, CIFAR-10 Batch 2:  accuracy:  0.8 Loss:  0.386529\n",
      "Epoch 74, CIFAR-10 Batch 3:  accuracy:  0.925 Loss:  0.312431\n",
      "Epoch 74, CIFAR-10 Batch 4:  accuracy:  0.925 Loss:  0.357276\n",
      "Epoch 74, CIFAR-10 Batch 5:  accuracy:  0.95 Loss:  0.338552\n",
      "Epoch 75, CIFAR-10 Batch 1:  accuracy:  0.775 Loss:  0.548473\n",
      "Epoch 75, CIFAR-10 Batch 2:  accuracy:  0.8 Loss:  0.3769\n",
      "Epoch 75, CIFAR-10 Batch 3:  accuracy:  0.925 Loss:  0.30458\n",
      "Epoch 75, CIFAR-10 Batch 4:  accuracy:  0.925 Loss:  0.353026\n",
      "Epoch 75, CIFAR-10 Batch 5:  accuracy:  0.975 Loss:  0.335474\n",
      "Epoch 76, CIFAR-10 Batch 1:  accuracy:  0.8 Loss:  0.551174\n",
      "Epoch 76, CIFAR-10 Batch 2:  accuracy:  0.875 Loss:  0.364021\n",
      "Epoch 76, CIFAR-10 Batch 3:  accuracy:  0.925 Loss:  0.300131\n",
      "Epoch 76, CIFAR-10 Batch 4:  accuracy:  0.95 Loss:  0.340861\n",
      "Epoch 76, CIFAR-10 Batch 5:  accuracy:  0.975 Loss:  0.323392\n",
      "Epoch 77, CIFAR-10 Batch 1:  accuracy:  0.8 Loss:  0.550037\n",
      "Epoch 77, CIFAR-10 Batch 2:  accuracy:  0.85 Loss:  0.367\n",
      "Epoch 77, CIFAR-10 Batch 3:  accuracy:  0.925 Loss:  0.296699\n",
      "Epoch 77, CIFAR-10 Batch 4:  accuracy:  0.925 Loss:  0.350329\n",
      "Epoch 77, CIFAR-10 Batch 5:  accuracy:  1.0 Loss:  0.312979\n",
      "Epoch 78, CIFAR-10 Batch 1:  accuracy:  0.8 Loss:  0.55096\n",
      "Epoch 78, CIFAR-10 Batch 2:  accuracy:  0.875 Loss:  0.355218\n",
      "Epoch 78, CIFAR-10 Batch 3:  accuracy:  0.925 Loss:  0.292056\n",
      "Epoch 78, CIFAR-10 Batch 4:  accuracy:  0.925 Loss:  0.33752\n",
      "Epoch 78, CIFAR-10 Batch 5:  accuracy:  0.975 Loss:  0.301348\n",
      "Epoch 79, CIFAR-10 Batch 1:  accuracy:  0.8 Loss:  0.542735\n",
      "Epoch 79, CIFAR-10 Batch 2:  accuracy:  0.85 Loss:  0.348777\n",
      "Epoch 79, CIFAR-10 Batch 3:  accuracy:  0.925 Loss:  0.282878\n",
      "Epoch 79, CIFAR-10 Batch 4:  accuracy:  0.95 Loss:  0.314839\n",
      "Epoch 79, CIFAR-10 Batch 5:  accuracy:  0.975 Loss:  0.300418\n",
      "Epoch 80, CIFAR-10 Batch 1:  accuracy:  0.85 Loss:  0.530944\n",
      "Epoch 80, CIFAR-10 Batch 2:  accuracy:  0.875 Loss:  0.348724\n",
      "Epoch 80, CIFAR-10 Batch 3:  accuracy:  0.925 Loss:  0.280189\n",
      "Epoch 80, CIFAR-10 Batch 4:  accuracy:  0.975 Loss:  0.299121\n",
      "Epoch 80, CIFAR-10 Batch 5:  accuracy:  0.95 Loss:  0.300719\n",
      "Epoch 81, CIFAR-10 Batch 1:  accuracy:  0.825 Loss:  0.529495\n",
      "Epoch 81, CIFAR-10 Batch 2:  accuracy:  0.9 Loss:  0.34158\n",
      "Epoch 81, CIFAR-10 Batch 3:  accuracy:  0.925 Loss:  0.276396\n",
      "Epoch 81, CIFAR-10 Batch 4:  accuracy:  0.925 Loss:  0.29695\n",
      "Epoch 81, CIFAR-10 Batch 5:  accuracy:  0.95 Loss:  0.295217\n",
      "Epoch 82, CIFAR-10 Batch 1:  accuracy:  0.825 Loss:  0.533043\n",
      "Epoch 82, CIFAR-10 Batch 2:  accuracy:  0.9 Loss:  0.334383\n",
      "Epoch 82, CIFAR-10 Batch 3:  accuracy:  0.925 Loss:  0.279614\n",
      "Epoch 82, CIFAR-10 Batch 4:  accuracy:  0.95 Loss:  0.30138\n",
      "Epoch 82, CIFAR-10 Batch 5:  accuracy:  0.95 Loss:  0.298673\n",
      "Epoch 83, CIFAR-10 Batch 1:  accuracy:  0.825 Loss:  0.53941\n",
      "Epoch 83, CIFAR-10 Batch 2:  accuracy:  0.925 Loss:  0.326283\n",
      "Epoch 83, CIFAR-10 Batch 3:  accuracy:  0.925 Loss:  0.27704\n",
      "Epoch 83, CIFAR-10 Batch 4:  accuracy:  0.95 Loss:  0.294148\n",
      "Epoch 83, CIFAR-10 Batch 5:  accuracy:  0.95 Loss:  0.289351\n",
      "Epoch 84, CIFAR-10 Batch 1:  accuracy:  0.825 Loss:  0.535617\n",
      "Epoch 84, CIFAR-10 Batch 2:  accuracy:  0.9 Loss:  0.305007\n",
      "Epoch 84, CIFAR-10 Batch 3:  accuracy:  0.9 Loss:  0.277436\n",
      "Epoch 84, CIFAR-10 Batch 4:  accuracy:  0.95 Loss:  0.292912\n",
      "Epoch 84, CIFAR-10 Batch 5:  accuracy:  1.0 Loss:  0.281928\n",
      "Epoch 85, CIFAR-10 Batch 1:  accuracy:  0.875 Loss:  0.526321\n",
      "Epoch 85, CIFAR-10 Batch 2:  accuracy:  0.9 Loss:  0.306706\n",
      "Epoch 85, CIFAR-10 Batch 3:  accuracy:  0.875 Loss:  0.276107\n",
      "Epoch 85, CIFAR-10 Batch 4:  accuracy:  0.95 Loss:  0.29853\n",
      "Epoch 85, CIFAR-10 Batch 5:  accuracy:  1.0 Loss:  0.282674\n",
      "Epoch 86, CIFAR-10 Batch 1:  accuracy:  0.875 Loss:  0.526286\n",
      "Epoch 86, CIFAR-10 Batch 2:  accuracy:  0.875 Loss:  0.309465\n",
      "Epoch 86, CIFAR-10 Batch 3:  accuracy:  0.9 Loss:  0.278375\n",
      "Epoch 86, CIFAR-10 Batch 4:  accuracy:  0.925 Loss:  0.32612\n",
      "Epoch 86, CIFAR-10 Batch 5:  accuracy:  1.0 Loss:  0.280499\n",
      "Epoch 87, CIFAR-10 Batch 1:  accuracy:  0.85 Loss:  0.526446\n",
      "Epoch 87, CIFAR-10 Batch 2:  accuracy:  0.9 Loss:  0.315535\n",
      "Epoch 87, CIFAR-10 Batch 3:  accuracy:  0.9 Loss:  0.277422\n",
      "Epoch 87, CIFAR-10 Batch 4:  accuracy:  0.975 Loss:  0.318168\n",
      "Epoch 87, CIFAR-10 Batch 5:  accuracy:  0.975 Loss:  0.276333\n",
      "Epoch 88, CIFAR-10 Batch 1:  accuracy:  0.85 Loss:  0.522097\n",
      "Epoch 88, CIFAR-10 Batch 2:  accuracy:  0.875 Loss:  0.315922\n",
      "Epoch 88, CIFAR-10 Batch 3:  accuracy:  0.9 Loss:  0.281903\n",
      "Epoch 88, CIFAR-10 Batch 4:  accuracy:  0.95 Loss:  0.311788\n",
      "Epoch 88, CIFAR-10 Batch 5:  accuracy:  1.0 Loss:  0.273797\n",
      "Epoch 89, CIFAR-10 Batch 1:  accuracy:  0.85 Loss:  0.514517\n",
      "Epoch 89, CIFAR-10 Batch 2:  accuracy:  0.9 Loss:  0.307061\n",
      "Epoch 89, CIFAR-10 Batch 3:  accuracy:  0.9 Loss:  0.28535\n",
      "Epoch 89, CIFAR-10 Batch 4:  accuracy:  0.95 Loss:  0.29738\n",
      "Epoch 89, CIFAR-10 Batch 5:  accuracy:  0.975 Loss:  0.270692\n",
      "Epoch 90, CIFAR-10 Batch 1:  accuracy:  0.85 Loss:  0.507952\n",
      "Epoch 90, CIFAR-10 Batch 2:  accuracy:  0.925 Loss:  0.304125\n",
      "Epoch 90, CIFAR-10 Batch 3:  accuracy:  0.925 Loss:  0.288477\n",
      "Epoch 90, CIFAR-10 Batch 4:  accuracy:  0.95 Loss:  0.287857\n",
      "Epoch 90, CIFAR-10 Batch 5:  accuracy:  1.0 Loss:  0.266823\n",
      "Epoch 91, CIFAR-10 Batch 1:  accuracy:  0.85 Loss:  0.497984\n",
      "Epoch 91, CIFAR-10 Batch 2:  accuracy:  0.925 Loss:  0.293673\n",
      "Epoch 91, CIFAR-10 Batch 3:  accuracy:  0.925 Loss:  0.289161\n",
      "Epoch 91, CIFAR-10 Batch 4:  accuracy:  0.95 Loss:  0.276451\n",
      "Epoch 91, CIFAR-10 Batch 5:  accuracy:  1.0 Loss:  0.264905\n",
      "Epoch 92, CIFAR-10 Batch 1:  accuracy:  0.85 Loss:  0.481003\n",
      "Epoch 92, CIFAR-10 Batch 2:  accuracy:  0.925 Loss:  0.286782\n",
      "Epoch 92, CIFAR-10 Batch 3:  accuracy:  0.9 Loss:  0.293006\n",
      "Epoch 92, CIFAR-10 Batch 4:  accuracy:  0.95 Loss:  0.265195\n",
      "Epoch 92, CIFAR-10 Batch 5:  accuracy:  1.0 Loss:  0.262026\n",
      "Epoch 93, CIFAR-10 Batch 1:  accuracy:  0.85 Loss:  0.46846\n",
      "Epoch 93, CIFAR-10 Batch 2:  accuracy:  0.95 Loss:  0.278739\n",
      "Epoch 93, CIFAR-10 Batch 3:  accuracy:  0.9 Loss:  0.287802\n",
      "Epoch 93, CIFAR-10 Batch 4:  accuracy:  0.95 Loss:  0.255571\n",
      "Epoch 93, CIFAR-10 Batch 5:  accuracy:  1.0 Loss:  0.255975\n",
      "Epoch 94, CIFAR-10 Batch 1:  accuracy:  0.85 Loss:  0.458041\n",
      "Epoch 94, CIFAR-10 Batch 2:  accuracy:  0.925 Loss:  0.270706\n",
      "Epoch 94, CIFAR-10 Batch 3:  accuracy:  0.925 Loss:  0.283521\n",
      "Epoch 94, CIFAR-10 Batch 4:  accuracy:  0.95 Loss:  0.250574\n",
      "Epoch 94, CIFAR-10 Batch 5:  accuracy:  1.0 Loss:  0.252716\n",
      "Epoch 95, CIFAR-10 Batch 1:  accuracy:  0.875 Loss:  0.448536\n",
      "Epoch 95, CIFAR-10 Batch 2:  accuracy:  0.925 Loss:  0.264533\n",
      "Epoch 95, CIFAR-10 Batch 3:  accuracy:  0.925 Loss:  0.286499\n",
      "Epoch 95, CIFAR-10 Batch 4:  accuracy:  0.95 Loss:  0.250623\n",
      "Epoch 95, CIFAR-10 Batch 5:  accuracy:  1.0 Loss:  0.252364\n",
      "Epoch 96, CIFAR-10 Batch 1:  accuracy:  0.875 Loss:  0.442792\n",
      "Epoch 96, CIFAR-10 Batch 2:  accuracy:  0.925 Loss:  0.253877\n",
      "Epoch 96, CIFAR-10 Batch 3:  accuracy:  0.95 Loss:  0.275963\n",
      "Epoch 96, CIFAR-10 Batch 4:  accuracy:  0.975 Loss:  0.242386\n",
      "Epoch 96, CIFAR-10 Batch 5:  accuracy:  1.0 Loss:  0.24896\n",
      "Epoch 97, CIFAR-10 Batch 1:  accuracy:  0.875 Loss:  0.445452\n",
      "Epoch 97, CIFAR-10 Batch 2:  accuracy:  0.925 Loss:  0.244742\n",
      "Epoch 97, CIFAR-10 Batch 3:  accuracy:  0.925 Loss:  0.266955\n",
      "Epoch 97, CIFAR-10 Batch 4:  accuracy:  0.975 Loss:  0.243853\n",
      "Epoch 97, CIFAR-10 Batch 5:  accuracy:  1.0 Loss:  0.248674\n",
      "Epoch 98, CIFAR-10 Batch 1:  accuracy:  0.875 Loss:  0.449275\n",
      "Epoch 98, CIFAR-10 Batch 2:  accuracy:  0.925 Loss:  0.234868\n",
      "Epoch 98, CIFAR-10 Batch 3:  accuracy:  0.925 Loss:  0.265883\n",
      "Epoch 98, CIFAR-10 Batch 4:  accuracy:  0.975 Loss:  0.245324\n",
      "Epoch 98, CIFAR-10 Batch 5:  accuracy:  0.975 Loss:  0.245893\n",
      "Epoch 99, CIFAR-10 Batch 1:  accuracy:  0.875 Loss:  0.453886\n",
      "Epoch 99, CIFAR-10 Batch 2:  accuracy:  0.95 Loss:  0.233879\n",
      "Epoch 99, CIFAR-10 Batch 3:  accuracy:  0.925 Loss:  0.262995\n",
      "Epoch 99, CIFAR-10 Batch 4:  accuracy:  0.975 Loss:  0.242795\n",
      "Epoch 99, CIFAR-10 Batch 5:  accuracy:  1.0 Loss:  0.23764\n",
      "Epoch 100, CIFAR-10 Batch 1:  accuracy:  0.875 Loss:  0.456189\n",
      "Epoch 100, CIFAR-10 Batch 2:  accuracy:  0.95 Loss:  0.226569\n",
      "Epoch 100, CIFAR-10 Batch 3:  accuracy:  0.925 Loss:  0.259464\n",
      "Epoch 100, CIFAR-10 Batch 4:  accuracy:  0.975 Loss:  0.243843\n",
      "Epoch 100, CIFAR-10 Batch 5:  accuracy:  1.0 Loss:  0.233829\n"
     ]
    }
   ],
   "source": [
    "\"\"\"\n",
    "DON'T MODIFY ANYTHING IN THIS CELL\n",
    "\"\"\"\n",
    "save_model_path = './image_classification'\n",
    "\n",
    "print('Training...')\n",
    "with tf.Session() as sess:\n",
    "    # Initializing the variables\n",
    "    sess.run(tf.initialize_all_variables())\n",
    "    \n",
    "    # Training cycle\n",
    "    for epoch in range(epochs):\n",
    "        # Loop over all batches\n",
    "        n_batches = 5\n",
    "        for batch_i in range(1, n_batches + 1):\n",
    "            for batch_features, batch_labels in helper.load_preprocess_training_batch(batch_i, batch_size):\n",
    "                train_neural_network(sess, optimizer, keep_probability, batch_features, batch_labels)\n",
    "            print('Epoch {:>2}, CIFAR-10 Batch {}:  '.format(epoch + 1, batch_i), end='')\n",
    "            print_stats(sess, batch_features, batch_labels, cost, accuracy)\n",
    "            \n",
    "    # Save Model\n",
    "    saver = tf.train.Saver()\n",
    "    save_path = saver.save(sess, save_model_path)"
   ]
  },
  {
   "cell_type": "markdown",
   "metadata": {},
   "source": [
    "# Checkpoint\n",
    "The model has been saved to disk.\n",
    "## Test Model\n",
    "Test your model against the test dataset.  This will be your final accuracy. You should have an accuracy greater than 50%. If you don't, keep tweaking the model architecture and parameters."
   ]
  },
  {
   "cell_type": "code",
   "execution_count": 55,
   "metadata": {
    "collapsed": false
   },
   "outputs": [
    {
     "name": "stdout",
     "output_type": "stream",
     "text": [
      "Testing Accuracy: 0.534315664556962\n",
      "\n"
     ]
    },
    {
     "data": {
      "image/png": "[encoded data removed]",
      "text/plain": [
       "<matplotlib.figure.Figure at 0x7fc5d39196a0>"
      ]
     },
     "metadata": {
      "image/png": {
       "height": 319,
       "width": 355
      }
     },
     "output_type": "display_data"
    }
   ],
   "source": [
    "\"\"\"\n",
    "DON'T MODIFY ANYTHING IN THIS CELL\n",
    "\"\"\"\n",
    "%matplotlib inline\n",
    "%config InlineBackend.figure_format = 'retina'\n",
    "\n",
    "import tensorflow as tf\n",
    "import pickle\n",
    "import helper\n",
    "import random\n",
    "\n",
    "# Set batch size if not already set\n",
    "try:\n",
    "    if batch_size:\n",
    "        pass\n",
    "except NameError:\n",
    "    batch_size = 64\n",
    "\n",
    "save_model_path = './image_classification'\n",
    "n_samples = 4\n",
    "top_n_predictions = 3\n",
    "\n",
    "def test_model():\n",
    "    \"\"\"\n",
    "    Test the saved model against the test dataset\n",
    "    \"\"\"\n",
    "\n",
    "    test_features, test_labels = pickle.load(open('preprocess_training.p', mode='rb'))\n",
    "    loaded_graph = tf.Graph()\n",
    "\n",
    "    with tf.Session(graph=loaded_graph) as sess:\n",
    "        # Load model\n",
    "        loader = tf.train.import_meta_graph(save_model_path + '.meta')\n",
    "        loader.restore(sess, save_model_path)\n",
    "\n",
    "        # Get Tensors from loaded model\n",
    "        loaded_x = loaded_graph.get_tensor_by_name('x:0')\n",
    "        loaded_y = loaded_graph.get_tensor_by_name('y:0')\n",
    "        loaded_keep_prob = loaded_graph.get_tensor_by_name('keep_prob:0')\n",
    "        loaded_logits = loaded_graph.get_tensor_by_name('logits:0')\n",
    "        loaded_acc = loaded_graph.get_tensor_by_name('accuracy:0')\n",
    "        \n",
    "        # Get accuracy in batches for memory limitations\n",
    "        test_batch_acc_total = 0\n",
    "        test_batch_count = 0\n",
    "        \n",
    "        for train_feature_batch, train_label_batch in helper.batch_features_labels(test_features, test_labels, batch_size):\n",
    "            test_batch_acc_total += sess.run(\n",
    "                loaded_acc,\n",
    "                feed_dict={loaded_x: train_feature_batch, loaded_y: train_label_batch, loaded_keep_prob: 1.0})\n",
    "            test_batch_count += 1\n",
    "\n",
    "        print('Testing Accuracy: {}\\n'.format(test_batch_acc_total/test_batch_count))\n",
    "\n",
    "        # Print Random Samples\n",
    "        random_test_features, random_test_labels = tuple(zip(*random.sample(list(zip(test_features, test_labels)), n_samples)))\n",
    "        random_test_predictions = sess.run(\n",
    "            tf.nn.top_k(tf.nn.softmax(loaded_logits), top_n_predictions),\n",
    "            feed_dict={loaded_x: random_test_features, loaded_y: random_test_labels, loaded_keep_prob: 1.0})\n",
    "        helper.display_image_predictions(random_test_features, random_test_labels, random_test_predictions)\n",
    "\n",
    "\n",
    "test_model()"
   ]
  },
  {
   "cell_type": "markdown",
   "metadata": {},
   "source": [
    "## Why 50-70% Accuracy?\n",
    "You might be wondering why you can't get an accuracy any higher. First things first, 50% isn't bad for a simple CNN.  Pure guessing would get you 10% accuracy. However, you might notice people are getting scores [well above 70%](http://rodrigob.github.io/are_we_there_yet/build/classification_datasets_results.html#43494641522d3130).  That's because we haven't taught you all there is to know about neural networks. We still need to cover a few more techniques.\n",
    "## Submitting This Project\n",
    "When submitting this project, make sure to run all the cells before saving the notebook.  Save the notebook file as \"dlnd_image_classification.ipynb\" and save it as a HTML file under \"File\" -> \"Download as\".  Include the \"helper.py\" and \"problem_unittests.py\" files in your submission."
   ]
  }
 ],
 "metadata": {
  "kernelspec": {
   "display_name": "Python [default]",
   "language": "python",
   "name": "python3"
  },
  "language_info": {
   "codemirror_mode": {
    "name": "ipython",
    "version": 3
   },
   "file_extension": ".py",
   "mimetype": "text/x-python",
   "name": "python",
   "nbconvert_exporter": "python",
   "pygments_lexer": "ipython3",
   "version": "3.5.2"
  }
 },
 "nbformat": 4,
 "nbformat_minor": 0
}
